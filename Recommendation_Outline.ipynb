{
 "cells": [
  {
   "cell_type": "code",
   "execution_count": 14,
   "metadata": {},
   "outputs": [],
   "source": [
    "import pandas as pd\n",
    "import numpy as np\n",
    "import sklearn\n",
    "import matplotlib.pyplot as plt, seaborn as sns\n",
    "import folium \n",
    "from sklearn.metrics.pairwise import (cosine_similarity, euclidean_distances, manhattan_distances) \n",
    "from IPython.display import display\n",
    "from surprise import SVD, Dataset, NormalPredictor, Reader, accuracy, KNNBasic, evaluate\n",
    "from surprise.model_selection import cross_validate, train_test_split, GridSearchCV, KFold\n",
    "from collections import defaultdict\n",
    "\n",
    "\n",
    "%matplotlib inline"
   ]
  },
  {
   "cell_type": "markdown",
   "metadata": {},
   "source": [
    "# EDA "
   ]
  },
  {
   "cell_type": "markdown",
   "metadata": {},
   "source": [
    "### Read Business Dataset"
   ]
  },
  {
   "cell_type": "code",
   "execution_count": 15,
   "metadata": {},
   "outputs": [],
   "source": [
    "business = pd.read_csv('../yelp_academic_dataset/yelp_business.csv')"
   ]
  },
  {
   "cell_type": "code",
   "execution_count": 16,
   "metadata": {},
   "outputs": [
    {
     "data": {
      "text/html": [
       "<div>\n",
       "<style>\n",
       "    .dataframe thead tr:only-child th {\n",
       "        text-align: right;\n",
       "    }\n",
       "\n",
       "    .dataframe thead th {\n",
       "        text-align: left;\n",
       "    }\n",
       "\n",
       "    .dataframe tbody tr th {\n",
       "        vertical-align: top;\n",
       "    }\n",
       "</style>\n",
       "<table border=\"1\" class=\"dataframe\">\n",
       "  <thead>\n",
       "    <tr style=\"text-align: right;\">\n",
       "      <th></th>\n",
       "      <th>business_id</th>\n",
       "      <th>name</th>\n",
       "      <th>neighborhood</th>\n",
       "      <th>address</th>\n",
       "      <th>city</th>\n",
       "      <th>state</th>\n",
       "      <th>postal_code</th>\n",
       "      <th>latitude</th>\n",
       "      <th>longitude</th>\n",
       "      <th>stars</th>\n",
       "      <th>review_count</th>\n",
       "      <th>is_open</th>\n",
       "      <th>categories</th>\n",
       "    </tr>\n",
       "  </thead>\n",
       "  <tbody>\n",
       "    <tr>\n",
       "      <th>0</th>\n",
       "      <td>FYWN1wneV18bWNgQjJ2GNg</td>\n",
       "      <td>\"Dental by Design\"</td>\n",
       "      <td>NaN</td>\n",
       "      <td>\"4855 E Warner Rd, Ste B9\"</td>\n",
       "      <td>Ahwatukee</td>\n",
       "      <td>AZ</td>\n",
       "      <td>85044</td>\n",
       "      <td>33.330690</td>\n",
       "      <td>-111.978599</td>\n",
       "      <td>4.0</td>\n",
       "      <td>22</td>\n",
       "      <td>1</td>\n",
       "      <td>Dentists;General Dentistry;Health &amp; Medical;Or...</td>\n",
       "    </tr>\n",
       "    <tr>\n",
       "      <th>1</th>\n",
       "      <td>He-G7vWjzVUysIKrfNbPUQ</td>\n",
       "      <td>\"Stephen Szabo Salon\"</td>\n",
       "      <td>NaN</td>\n",
       "      <td>\"3101 Washington Rd\"</td>\n",
       "      <td>McMurray</td>\n",
       "      <td>PA</td>\n",
       "      <td>15317</td>\n",
       "      <td>40.291685</td>\n",
       "      <td>-80.104900</td>\n",
       "      <td>3.0</td>\n",
       "      <td>11</td>\n",
       "      <td>1</td>\n",
       "      <td>Hair Stylists;Hair Salons;Men's Hair Salons;Bl...</td>\n",
       "    </tr>\n",
       "  </tbody>\n",
       "</table>\n",
       "</div>"
      ],
      "text/plain": [
       "              business_id                   name neighborhood  \\\n",
       "0  FYWN1wneV18bWNgQjJ2GNg     \"Dental by Design\"          NaN   \n",
       "1  He-G7vWjzVUysIKrfNbPUQ  \"Stephen Szabo Salon\"          NaN   \n",
       "\n",
       "                      address       city state postal_code   latitude  \\\n",
       "0  \"4855 E Warner Rd, Ste B9\"  Ahwatukee    AZ       85044  33.330690   \n",
       "1        \"3101 Washington Rd\"   McMurray    PA       15317  40.291685   \n",
       "\n",
       "    longitude  stars  review_count  is_open  \\\n",
       "0 -111.978599    4.0            22        1   \n",
       "1  -80.104900    3.0            11        1   \n",
       "\n",
       "                                          categories  \n",
       "0  Dentists;General Dentistry;Health & Medical;Or...  \n",
       "1  Hair Stylists;Hair Salons;Men's Hair Salons;Bl...  "
      ]
     },
     "execution_count": 16,
     "metadata": {},
     "output_type": "execute_result"
    }
   ],
   "source": [
    "business.head(2)"
   ]
  },
  {
   "cell_type": "markdown",
   "metadata": {},
   "source": [
    "### Dataset Includes ~175,000 Businesses"
   ]
  },
  {
   "cell_type": "code",
   "execution_count": 17,
   "metadata": {},
   "outputs": [
    {
     "data": {
      "text/plain": [
       "(174567, 13)"
      ]
     },
     "execution_count": 17,
     "metadata": {},
     "output_type": "execute_result"
    }
   ],
   "source": [
    "business.shape"
   ]
  },
  {
   "cell_type": "markdown",
   "metadata": {},
   "source": [
    "### The Dataset includes 68 'State' values, I decided to look at only 'States' with more than 200 businesses"
   ]
  },
  {
   "cell_type": "code",
   "execution_count": 18,
   "metadata": {},
   "outputs": [],
   "source": [
    "states = business['state'].value_counts()[business['state'].value_counts() > 200]"
   ]
  },
  {
   "cell_type": "code",
   "execution_count": 19,
   "metadata": {},
   "outputs": [],
   "source": [
    "states = pd.DataFrame({'state':states.index, 'count':states.values})"
   ]
  },
  {
   "cell_type": "code",
   "execution_count": 20,
   "metadata": {},
   "outputs": [
    {
     "data": {
      "text/html": [
       "<div>\n",
       "<style>\n",
       "    .dataframe thead tr:only-child th {\n",
       "        text-align: right;\n",
       "    }\n",
       "\n",
       "    .dataframe thead th {\n",
       "        text-align: left;\n",
       "    }\n",
       "\n",
       "    .dataframe tbody tr th {\n",
       "        vertical-align: top;\n",
       "    }\n",
       "</style>\n",
       "<table border=\"1\" class=\"dataframe\">\n",
       "  <thead>\n",
       "    <tr style=\"text-align: right;\">\n",
       "      <th></th>\n",
       "      <th>count</th>\n",
       "      <th>state</th>\n",
       "    </tr>\n",
       "  </thead>\n",
       "  <tbody>\n",
       "    <tr>\n",
       "      <th>0</th>\n",
       "      <td>52214</td>\n",
       "      <td>AZ</td>\n",
       "    </tr>\n",
       "    <tr>\n",
       "      <th>1</th>\n",
       "      <td>33086</td>\n",
       "      <td>NV</td>\n",
       "    </tr>\n",
       "    <tr>\n",
       "      <th>2</th>\n",
       "      <td>30208</td>\n",
       "      <td>ON</td>\n",
       "    </tr>\n",
       "    <tr>\n",
       "      <th>3</th>\n",
       "      <td>12956</td>\n",
       "      <td>NC</td>\n",
       "    </tr>\n",
       "    <tr>\n",
       "      <th>4</th>\n",
       "      <td>12609</td>\n",
       "      <td>OH</td>\n",
       "    </tr>\n",
       "    <tr>\n",
       "      <th>5</th>\n",
       "      <td>10109</td>\n",
       "      <td>PA</td>\n",
       "    </tr>\n",
       "    <tr>\n",
       "      <th>6</th>\n",
       "      <td>8169</td>\n",
       "      <td>QC</td>\n",
       "    </tr>\n",
       "    <tr>\n",
       "      <th>7</th>\n",
       "      <td>4754</td>\n",
       "      <td>WI</td>\n",
       "    </tr>\n",
       "    <tr>\n",
       "      <th>8</th>\n",
       "      <td>3795</td>\n",
       "      <td>EDH</td>\n",
       "    </tr>\n",
       "    <tr>\n",
       "      <th>9</th>\n",
       "      <td>3118</td>\n",
       "      <td>BW</td>\n",
       "    </tr>\n",
       "    <tr>\n",
       "      <th>10</th>\n",
       "      <td>1852</td>\n",
       "      <td>IL</td>\n",
       "    </tr>\n",
       "    <tr>\n",
       "      <th>11</th>\n",
       "      <td>679</td>\n",
       "      <td>SC</td>\n",
       "    </tr>\n",
       "    <tr>\n",
       "      <th>12</th>\n",
       "      <td>208</td>\n",
       "      <td>MLN</td>\n",
       "    </tr>\n",
       "  </tbody>\n",
       "</table>\n",
       "</div>"
      ],
      "text/plain": [
       "    count state\n",
       "0   52214    AZ\n",
       "1   33086    NV\n",
       "2   30208    ON\n",
       "3   12956    NC\n",
       "4   12609    OH\n",
       "5   10109    PA\n",
       "6    8169    QC\n",
       "7    4754    WI\n",
       "8    3795   EDH\n",
       "9    3118    BW\n",
       "10   1852    IL\n",
       "11    679    SC\n",
       "12    208   MLN"
      ]
     },
     "execution_count": 20,
     "metadata": {},
     "output_type": "execute_result"
    }
   ],
   "source": [
    "states"
   ]
  },
  {
   "cell_type": "code",
   "execution_count": 21,
   "metadata": {},
   "outputs": [
    {
     "data": {
      "image/png": "[encoded data removed]",
      "text/plain": [
       "<matplotlib.figure.Figure at 0x1245160f0>"
      ]
     },
     "metadata": {},
     "output_type": "display_data"
    }
   ],
   "source": [
    "sns.barplot(x='count', y='state', data=states)\n",
    "plt.title(\"State Counts\");"
   ]
  },
  {
   "cell_type": "markdown",
   "metadata": {},
   "source": [
    "### The Dataset includes ~1000 'City' values, I decided to look at only cities with more than 1000 businesses"
   ]
  },
  {
   "cell_type": "code",
   "execution_count": 22,
   "metadata": {},
   "outputs": [],
   "source": [
    "cities = business['city'].value_counts()[business['city'].value_counts() > 1000]"
   ]
  },
  {
   "cell_type": "code",
   "execution_count": 23,
   "metadata": {},
   "outputs": [
    {
     "data": {
      "text/html": [
       "<div>\n",
       "<style>\n",
       "    .dataframe thead tr:only-child th {\n",
       "        text-align: right;\n",
       "    }\n",
       "\n",
       "    .dataframe thead th {\n",
       "        text-align: left;\n",
       "    }\n",
       "\n",
       "    .dataframe tbody tr th {\n",
       "        vertical-align: top;\n",
       "    }\n",
       "</style>\n",
       "<table border=\"1\" class=\"dataframe\">\n",
       "  <thead>\n",
       "    <tr style=\"text-align: right;\">\n",
       "      <th></th>\n",
       "      <th>city</th>\n",
       "      <th>count</th>\n",
       "    </tr>\n",
       "  </thead>\n",
       "  <tbody>\n",
       "    <tr>\n",
       "      <th>0</th>\n",
       "      <td>Las Vegas</td>\n",
       "      <td>26775</td>\n",
       "    </tr>\n",
       "    <tr>\n",
       "      <th>1</th>\n",
       "      <td>Phoenix</td>\n",
       "      <td>17213</td>\n",
       "    </tr>\n",
       "    <tr>\n",
       "      <th>2</th>\n",
       "      <td>Toronto</td>\n",
       "      <td>17206</td>\n",
       "    </tr>\n",
       "    <tr>\n",
       "      <th>3</th>\n",
       "      <td>Charlotte</td>\n",
       "      <td>8553</td>\n",
       "    </tr>\n",
       "    <tr>\n",
       "      <th>4</th>\n",
       "      <td>Scottsdale</td>\n",
       "      <td>8228</td>\n",
       "    </tr>\n",
       "    <tr>\n",
       "      <th>5</th>\n",
       "      <td>Pittsburgh</td>\n",
       "      <td>6355</td>\n",
       "    </tr>\n",
       "    <tr>\n",
       "      <th>6</th>\n",
       "      <td>Mesa</td>\n",
       "      <td>5760</td>\n",
       "    </tr>\n",
       "    <tr>\n",
       "      <th>7</th>\n",
       "      <td>Montréal</td>\n",
       "      <td>5709</td>\n",
       "    </tr>\n",
       "    <tr>\n",
       "      <th>8</th>\n",
       "      <td>Henderson</td>\n",
       "      <td>4465</td>\n",
       "    </tr>\n",
       "    <tr>\n",
       "      <th>9</th>\n",
       "      <td>Tempe</td>\n",
       "      <td>4263</td>\n",
       "    </tr>\n",
       "    <tr>\n",
       "      <th>10</th>\n",
       "      <td>Chandler</td>\n",
       "      <td>3994</td>\n",
       "    </tr>\n",
       "    <tr>\n",
       "      <th>11</th>\n",
       "      <td>Edinburgh</td>\n",
       "      <td>3868</td>\n",
       "    </tr>\n",
       "    <tr>\n",
       "      <th>12</th>\n",
       "      <td>Cleveland</td>\n",
       "      <td>3322</td>\n",
       "    </tr>\n",
       "    <tr>\n",
       "      <th>13</th>\n",
       "      <td>Madison</td>\n",
       "      <td>3213</td>\n",
       "    </tr>\n",
       "    <tr>\n",
       "      <th>14</th>\n",
       "      <td>Glendale</td>\n",
       "      <td>3206</td>\n",
       "    </tr>\n",
       "    <tr>\n",
       "      <th>15</th>\n",
       "      <td>Gilbert</td>\n",
       "      <td>3128</td>\n",
       "    </tr>\n",
       "    <tr>\n",
       "      <th>16</th>\n",
       "      <td>Mississauga</td>\n",
       "      <td>2726</td>\n",
       "    </tr>\n",
       "    <tr>\n",
       "      <th>17</th>\n",
       "      <td>Stuttgart</td>\n",
       "      <td>2000</td>\n",
       "    </tr>\n",
       "    <tr>\n",
       "      <th>18</th>\n",
       "      <td>Peoria</td>\n",
       "      <td>1706</td>\n",
       "    </tr>\n",
       "    <tr>\n",
       "      <th>19</th>\n",
       "      <td>Markham</td>\n",
       "      <td>1564</td>\n",
       "    </tr>\n",
       "    <tr>\n",
       "      <th>20</th>\n",
       "      <td>North Las Vegas</td>\n",
       "      <td>1393</td>\n",
       "    </tr>\n",
       "    <tr>\n",
       "      <th>21</th>\n",
       "      <td>Champaign</td>\n",
       "      <td>1195</td>\n",
       "    </tr>\n",
       "    <tr>\n",
       "      <th>22</th>\n",
       "      <td>Scarborough</td>\n",
       "      <td>1095</td>\n",
       "    </tr>\n",
       "    <tr>\n",
       "      <th>23</th>\n",
       "      <td>North York</td>\n",
       "      <td>1092</td>\n",
       "    </tr>\n",
       "    <tr>\n",
       "      <th>24</th>\n",
       "      <td>Surprise</td>\n",
       "      <td>1018</td>\n",
       "    </tr>\n",
       "  </tbody>\n",
       "</table>\n",
       "</div>"
      ],
      "text/plain": [
       "               city  count\n",
       "0         Las Vegas  26775\n",
       "1           Phoenix  17213\n",
       "2           Toronto  17206\n",
       "3         Charlotte   8553\n",
       "4        Scottsdale   8228\n",
       "5        Pittsburgh   6355\n",
       "6              Mesa   5760\n",
       "7          Montréal   5709\n",
       "8         Henderson   4465\n",
       "9             Tempe   4263\n",
       "10         Chandler   3994\n",
       "11        Edinburgh   3868\n",
       "12        Cleveland   3322\n",
       "13          Madison   3213\n",
       "14         Glendale   3206\n",
       "15          Gilbert   3128\n",
       "16      Mississauga   2726\n",
       "17        Stuttgart   2000\n",
       "18           Peoria   1706\n",
       "19          Markham   1564\n",
       "20  North Las Vegas   1393\n",
       "21        Champaign   1195\n",
       "22      Scarborough   1095\n",
       "23       North York   1092\n",
       "24         Surprise   1018"
      ]
     },
     "execution_count": 23,
     "metadata": {},
     "output_type": "execute_result"
    }
   ],
   "source": [
    "cities = pd.DataFrame({'city':cities.index, 'count':cities.values})\n",
    "cities"
   ]
  },
  {
   "cell_type": "code",
   "execution_count": 24,
   "metadata": {},
   "outputs": [
    {
     "data": {
      "image/png": "[encoded data removed]",
      "text/plain": [
       "<matplotlib.figure.Figure at 0x121cd6c50>"
      ]
     },
     "metadata": {},
     "output_type": "display_data"
    }
   ],
   "source": [
    "fig, ax = plt.subplots(figsize=(6,6))\n",
    "sns.barplot(x='count', y='city', data=cities, ax=ax)\n",
    "plt.title(\"City Count\");"
   ]
  },
  {
   "cell_type": "markdown",
   "metadata": {},
   "source": [
    "### Mask Business Dataset to Test Workability\n",
    "#### First Use 'Las Vegas' (Largest Market) &  > 1000 reviews  (to improve matches between users)"
   ]
  },
  {
   "cell_type": "code",
   "execution_count": 25,
   "metadata": {},
   "outputs": [],
   "source": [
    "business = business[(business['city'] == 'Las Vegas') & (business['review_count'] > 1000)]"
   ]
  },
  {
   "cell_type": "code",
   "execution_count": 26,
   "metadata": {},
   "outputs": [
    {
     "data": {
      "text/plain": [
       "(186, 13)"
      ]
     },
     "execution_count": 26,
     "metadata": {},
     "output_type": "execute_result"
    }
   ],
   "source": [
    "business.shape"
   ]
  },
  {
   "cell_type": "code",
   "execution_count": 27,
   "metadata": {},
   "outputs": [
    {
     "data": {
      "text/html": [
       "<div>\n",
       "<style>\n",
       "    .dataframe thead tr:only-child th {\n",
       "        text-align: right;\n",
       "    }\n",
       "\n",
       "    .dataframe thead th {\n",
       "        text-align: left;\n",
       "    }\n",
       "\n",
       "    .dataframe tbody tr th {\n",
       "        vertical-align: top;\n",
       "    }\n",
       "</style>\n",
       "<table border=\"1\" class=\"dataframe\">\n",
       "  <thead>\n",
       "    <tr style=\"text-align: right;\">\n",
       "      <th></th>\n",
       "      <th>business_id</th>\n",
       "      <th>name</th>\n",
       "      <th>neighborhood</th>\n",
       "      <th>address</th>\n",
       "      <th>city</th>\n",
       "      <th>state</th>\n",
       "      <th>postal_code</th>\n",
       "      <th>latitude</th>\n",
       "      <th>longitude</th>\n",
       "      <th>stars</th>\n",
       "      <th>review_count</th>\n",
       "      <th>is_open</th>\n",
       "      <th>categories</th>\n",
       "    </tr>\n",
       "  </thead>\n",
       "  <tbody>\n",
       "    <tr>\n",
       "      <th>800</th>\n",
       "      <td>o7AiTlyWUrBSzdz6oMHj5w</td>\n",
       "      <td>\"Excalibur Hotel\"</td>\n",
       "      <td>The Strip</td>\n",
       "      <td>\"Excalibur Hotel And Casino, 3850 Las Vegas Bl...</td>\n",
       "      <td>Las Vegas</td>\n",
       "      <td>NV</td>\n",
       "      <td>89109</td>\n",
       "      <td>36.098732</td>\n",
       "      <td>-115.174726</td>\n",
       "      <td>2.5</td>\n",
       "      <td>2504</td>\n",
       "      <td>1</td>\n",
       "      <td>Hotels;Event Planning &amp; Services;Casinos;Resor...</td>\n",
       "    </tr>\n",
       "    <tr>\n",
       "      <th>801</th>\n",
       "      <td>PgJgpW4TKQ8IoALH2Yq-zA</td>\n",
       "      <td>\"Bayside Buffet at Mandalay Bay\"</td>\n",
       "      <td>The Strip</td>\n",
       "      <td>\"3950 S Las Vegas Blvd\"</td>\n",
       "      <td>Las Vegas</td>\n",
       "      <td>NV</td>\n",
       "      <td>89109</td>\n",
       "      <td>36.091219</td>\n",
       "      <td>-115.175804</td>\n",
       "      <td>3.0</td>\n",
       "      <td>1033</td>\n",
       "      <td>1</td>\n",
       "      <td>Arts &amp; Entertainment;Restaurants;Buffets;Ameri...</td>\n",
       "    </tr>\n",
       "    <tr>\n",
       "      <th>2803</th>\n",
       "      <td>5iSmZO0SrKU6EoXK_1M8Kw</td>\n",
       "      <td>\"Monte Carlo Hotel And Casino\"</td>\n",
       "      <td>The Strip</td>\n",
       "      <td>\"3770 Las Vegas Blvd S\"</td>\n",
       "      <td>Las Vegas</td>\n",
       "      <td>NV</td>\n",
       "      <td>89109</td>\n",
       "      <td>36.104614</td>\n",
       "      <td>-115.176021</td>\n",
       "      <td>2.5</td>\n",
       "      <td>2507</td>\n",
       "      <td>1</td>\n",
       "      <td>Resorts;Hotels &amp; Travel;Event Planning &amp; Servi...</td>\n",
       "    </tr>\n",
       "    <tr>\n",
       "      <th>4416</th>\n",
       "      <td>OVTZNSkSfbl3gVB9XQIJfw</td>\n",
       "      <td>\"Cravings Buffet\"</td>\n",
       "      <td>The Strip</td>\n",
       "      <td>\"3400 Las Vegas Blvd S\"</td>\n",
       "      <td>Las Vegas</td>\n",
       "      <td>NV</td>\n",
       "      <td>89109</td>\n",
       "      <td>36.121237</td>\n",
       "      <td>-115.174105</td>\n",
       "      <td>3.0</td>\n",
       "      <td>1252</td>\n",
       "      <td>1</td>\n",
       "      <td>American (Traditional);Buffets;Restaurants;Ame...</td>\n",
       "    </tr>\n",
       "    <tr>\n",
       "      <th>4439</th>\n",
       "      <td>JDZ6_yycNQFTpUZzLIKHUg</td>\n",
       "      <td>\"El Dorado Cantina\"</td>\n",
       "      <td>NaN</td>\n",
       "      <td>\"3025 Sammy Davis Jr Dr\"</td>\n",
       "      <td>Las Vegas</td>\n",
       "      <td>NV</td>\n",
       "      <td>89109</td>\n",
       "      <td>36.134915</td>\n",
       "      <td>-115.175822</td>\n",
       "      <td>4.0</td>\n",
       "      <td>1694</td>\n",
       "      <td>1</td>\n",
       "      <td>Lounges;Mexican;Restaurants;Bars;Nightlife</td>\n",
       "    </tr>\n",
       "  </tbody>\n",
       "</table>\n",
       "</div>"
      ],
      "text/plain": [
       "                 business_id                              name neighborhood  \\\n",
       "800   o7AiTlyWUrBSzdz6oMHj5w                 \"Excalibur Hotel\"    The Strip   \n",
       "801   PgJgpW4TKQ8IoALH2Yq-zA  \"Bayside Buffet at Mandalay Bay\"    The Strip   \n",
       "2803  5iSmZO0SrKU6EoXK_1M8Kw    \"Monte Carlo Hotel And Casino\"    The Strip   \n",
       "4416  OVTZNSkSfbl3gVB9XQIJfw                 \"Cravings Buffet\"    The Strip   \n",
       "4439  JDZ6_yycNQFTpUZzLIKHUg               \"El Dorado Cantina\"          NaN   \n",
       "\n",
       "                                                address       city state  \\\n",
       "800   \"Excalibur Hotel And Casino, 3850 Las Vegas Bl...  Las Vegas    NV   \n",
       "801                             \"3950 S Las Vegas Blvd\"  Las Vegas    NV   \n",
       "2803                            \"3770 Las Vegas Blvd S\"  Las Vegas    NV   \n",
       "4416                            \"3400 Las Vegas Blvd S\"  Las Vegas    NV   \n",
       "4439                           \"3025 Sammy Davis Jr Dr\"  Las Vegas    NV   \n",
       "\n",
       "     postal_code   latitude   longitude  stars  review_count  is_open  \\\n",
       "800        89109  36.098732 -115.174726    2.5          2504        1   \n",
       "801        89109  36.091219 -115.175804    3.0          1033        1   \n",
       "2803       89109  36.104614 -115.176021    2.5          2507        1   \n",
       "4416       89109  36.121237 -115.174105    3.0          1252        1   \n",
       "4439       89109  36.134915 -115.175822    4.0          1694        1   \n",
       "\n",
       "                                             categories  \n",
       "800   Hotels;Event Planning & Services;Casinos;Resor...  \n",
       "801   Arts & Entertainment;Restaurants;Buffets;Ameri...  \n",
       "2803  Resorts;Hotels & Travel;Event Planning & Servi...  \n",
       "4416  American (Traditional);Buffets;Restaurants;Ame...  \n",
       "4439         Lounges;Mexican;Restaurants;Bars;Nightlife  "
      ]
     },
     "execution_count": 27,
     "metadata": {},
     "output_type": "execute_result"
    }
   ],
   "source": [
    "business.head()"
   ]
  },
  {
   "cell_type": "markdown",
   "metadata": {},
   "source": [
    "### Truncate Business Columns"
   ]
  },
  {
   "cell_type": "code",
   "execution_count": 28,
   "metadata": {},
   "outputs": [],
   "source": [
    "business_trunc = business[['business_id', 'name', 'city', 'state', 'review_count']]"
   ]
  },
  {
   "cell_type": "code",
   "execution_count": 29,
   "metadata": {},
   "outputs": [
    {
     "data": {
      "text/html": [
       "<div>\n",
       "<style>\n",
       "    .dataframe thead tr:only-child th {\n",
       "        text-align: right;\n",
       "    }\n",
       "\n",
       "    .dataframe thead th {\n",
       "        text-align: left;\n",
       "    }\n",
       "\n",
       "    .dataframe tbody tr th {\n",
       "        vertical-align: top;\n",
       "    }\n",
       "</style>\n",
       "<table border=\"1\" class=\"dataframe\">\n",
       "  <thead>\n",
       "    <tr style=\"text-align: right;\">\n",
       "      <th></th>\n",
       "      <th>business_id</th>\n",
       "      <th>name</th>\n",
       "      <th>city</th>\n",
       "      <th>state</th>\n",
       "      <th>review_count</th>\n",
       "    </tr>\n",
       "  </thead>\n",
       "  <tbody>\n",
       "    <tr>\n",
       "      <th>800</th>\n",
       "      <td>o7AiTlyWUrBSzdz6oMHj5w</td>\n",
       "      <td>\"Excalibur Hotel\"</td>\n",
       "      <td>Las Vegas</td>\n",
       "      <td>NV</td>\n",
       "      <td>2504</td>\n",
       "    </tr>\n",
       "    <tr>\n",
       "      <th>801</th>\n",
       "      <td>PgJgpW4TKQ8IoALH2Yq-zA</td>\n",
       "      <td>\"Bayside Buffet at Mandalay Bay\"</td>\n",
       "      <td>Las Vegas</td>\n",
       "      <td>NV</td>\n",
       "      <td>1033</td>\n",
       "    </tr>\n",
       "    <tr>\n",
       "      <th>2803</th>\n",
       "      <td>5iSmZO0SrKU6EoXK_1M8Kw</td>\n",
       "      <td>\"Monte Carlo Hotel And Casino\"</td>\n",
       "      <td>Las Vegas</td>\n",
       "      <td>NV</td>\n",
       "      <td>2507</td>\n",
       "    </tr>\n",
       "    <tr>\n",
       "      <th>4416</th>\n",
       "      <td>OVTZNSkSfbl3gVB9XQIJfw</td>\n",
       "      <td>\"Cravings Buffet\"</td>\n",
       "      <td>Las Vegas</td>\n",
       "      <td>NV</td>\n",
       "      <td>1252</td>\n",
       "    </tr>\n",
       "    <tr>\n",
       "      <th>4439</th>\n",
       "      <td>JDZ6_yycNQFTpUZzLIKHUg</td>\n",
       "      <td>\"El Dorado Cantina\"</td>\n",
       "      <td>Las Vegas</td>\n",
       "      <td>NV</td>\n",
       "      <td>1694</td>\n",
       "    </tr>\n",
       "  </tbody>\n",
       "</table>\n",
       "</div>"
      ],
      "text/plain": [
       "                 business_id                              name       city  \\\n",
       "800   o7AiTlyWUrBSzdz6oMHj5w                 \"Excalibur Hotel\"  Las Vegas   \n",
       "801   PgJgpW4TKQ8IoALH2Yq-zA  \"Bayside Buffet at Mandalay Bay\"  Las Vegas   \n",
       "2803  5iSmZO0SrKU6EoXK_1M8Kw    \"Monte Carlo Hotel And Casino\"  Las Vegas   \n",
       "4416  OVTZNSkSfbl3gVB9XQIJfw                 \"Cravings Buffet\"  Las Vegas   \n",
       "4439  JDZ6_yycNQFTpUZzLIKHUg               \"El Dorado Cantina\"  Las Vegas   \n",
       "\n",
       "     state  review_count  \n",
       "800     NV          2504  \n",
       "801     NV          1033  \n",
       "2803    NV          2507  \n",
       "4416    NV          1252  \n",
       "4439    NV          1694  "
      ]
     },
     "execution_count": 29,
     "metadata": {},
     "output_type": "execute_result"
    }
   ],
   "source": [
    "business_trunc.head(5)"
   ]
  },
  {
   "cell_type": "markdown",
   "metadata": {},
   "source": [
    "### Read User Dataset"
   ]
  },
  {
   "cell_type": "code",
   "execution_count": 30,
   "metadata": {},
   "outputs": [],
   "source": [
    "user = pd.read_csv('../yelp_academic_dataset/yelp_user.csv')"
   ]
  },
  {
   "cell_type": "code",
   "execution_count": 31,
   "metadata": {},
   "outputs": [
    {
     "data": {
      "text/html": [
       "<div>\n",
       "<style>\n",
       "    .dataframe thead tr:only-child th {\n",
       "        text-align: right;\n",
       "    }\n",
       "\n",
       "    .dataframe thead th {\n",
       "        text-align: left;\n",
       "    }\n",
       "\n",
       "    .dataframe tbody tr th {\n",
       "        vertical-align: top;\n",
       "    }\n",
       "</style>\n",
       "<table border=\"1\" class=\"dataframe\">\n",
       "  <thead>\n",
       "    <tr style=\"text-align: right;\">\n",
       "      <th></th>\n",
       "      <th>user_id</th>\n",
       "      <th>name</th>\n",
       "      <th>review_count</th>\n",
       "      <th>yelping_since</th>\n",
       "      <th>friends</th>\n",
       "      <th>useful</th>\n",
       "      <th>funny</th>\n",
       "      <th>cool</th>\n",
       "      <th>fans</th>\n",
       "      <th>elite</th>\n",
       "      <th>...</th>\n",
       "      <th>compliment_more</th>\n",
       "      <th>compliment_profile</th>\n",
       "      <th>compliment_cute</th>\n",
       "      <th>compliment_list</th>\n",
       "      <th>compliment_note</th>\n",
       "      <th>compliment_plain</th>\n",
       "      <th>compliment_cool</th>\n",
       "      <th>compliment_funny</th>\n",
       "      <th>compliment_writer</th>\n",
       "      <th>compliment_photos</th>\n",
       "    </tr>\n",
       "  </thead>\n",
       "  <tbody>\n",
       "    <tr>\n",
       "      <th>0</th>\n",
       "      <td>JJ-aSuM4pCFPdkfoZ34q0Q</td>\n",
       "      <td>Chris</td>\n",
       "      <td>10</td>\n",
       "      <td>2013-09-24</td>\n",
       "      <td>0njfJmB-7n84DlIgUByCNw, rFn3Xe3RqHxRSxWOU19Gpg...</td>\n",
       "      <td>0</td>\n",
       "      <td>0</td>\n",
       "      <td>0</td>\n",
       "      <td>0</td>\n",
       "      <td>None</td>\n",
       "      <td>...</td>\n",
       "      <td>0</td>\n",
       "      <td>0</td>\n",
       "      <td>0</td>\n",
       "      <td>0</td>\n",
       "      <td>0</td>\n",
       "      <td>0</td>\n",
       "      <td>0</td>\n",
       "      <td>0</td>\n",
       "      <td>0</td>\n",
       "      <td>0</td>\n",
       "    </tr>\n",
       "    <tr>\n",
       "      <th>1</th>\n",
       "      <td>uUzsFQn_6cXDh6rPNGbIFA</td>\n",
       "      <td>Tiffy</td>\n",
       "      <td>1</td>\n",
       "      <td>2017-03-02</td>\n",
       "      <td>None</td>\n",
       "      <td>0</td>\n",
       "      <td>0</td>\n",
       "      <td>0</td>\n",
       "      <td>0</td>\n",
       "      <td>None</td>\n",
       "      <td>...</td>\n",
       "      <td>0</td>\n",
       "      <td>0</td>\n",
       "      <td>0</td>\n",
       "      <td>0</td>\n",
       "      <td>0</td>\n",
       "      <td>0</td>\n",
       "      <td>0</td>\n",
       "      <td>0</td>\n",
       "      <td>0</td>\n",
       "      <td>0</td>\n",
       "    </tr>\n",
       "  </tbody>\n",
       "</table>\n",
       "<p>2 rows × 22 columns</p>\n",
       "</div>"
      ],
      "text/plain": [
       "                  user_id   name  review_count yelping_since  \\\n",
       "0  JJ-aSuM4pCFPdkfoZ34q0Q  Chris            10    2013-09-24   \n",
       "1  uUzsFQn_6cXDh6rPNGbIFA  Tiffy             1    2017-03-02   \n",
       "\n",
       "                                             friends  useful  funny  cool  \\\n",
       "0  0njfJmB-7n84DlIgUByCNw, rFn3Xe3RqHxRSxWOU19Gpg...       0      0     0   \n",
       "1                                               None       0      0     0   \n",
       "\n",
       "   fans elite        ...          compliment_more  compliment_profile  \\\n",
       "0     0  None        ...                        0                   0   \n",
       "1     0  None        ...                        0                   0   \n",
       "\n",
       "   compliment_cute  compliment_list  compliment_note  compliment_plain  \\\n",
       "0                0                0                0                 0   \n",
       "1                0                0                0                 0   \n",
       "\n",
       "   compliment_cool  compliment_funny  compliment_writer  compliment_photos  \n",
       "0                0                 0                  0                  0  \n",
       "1                0                 0                  0                  0  \n",
       "\n",
       "[2 rows x 22 columns]"
      ]
     },
     "execution_count": 31,
     "metadata": {},
     "output_type": "execute_result"
    }
   ],
   "source": [
    "user.head(2)"
   ]
  },
  {
   "cell_type": "markdown",
   "metadata": {},
   "source": [
    "### Dataset Includes ~1.3 million users"
   ]
  },
  {
   "cell_type": "code",
   "execution_count": 32,
   "metadata": {},
   "outputs": [
    {
     "data": {
      "text/plain": [
       "(1326100, 22)"
      ]
     },
     "execution_count": 32,
     "metadata": {},
     "output_type": "execute_result"
    }
   ],
   "source": [
    "user.shape"
   ]
  },
  {
   "cell_type": "markdown",
   "metadata": {},
   "source": [
    "### User Review Count is heavily skewed left, this makes logical since most users are known to write reviews infrequently"
   ]
  },
  {
   "cell_type": "code",
   "execution_count": 33,
   "metadata": {},
   "outputs": [
    {
     "data": {
      "image/png": "[encoded data removed]",
      "text/plain": [
       "<matplotlib.figure.Figure at 0x14bcdb4e0>"
      ]
     },
     "metadata": {},
     "output_type": "display_data"
    }
   ],
   "source": [
    "fig, ax = plt.subplots(figsize=(10,6))\n",
    "sns.kdeplot(user['review_count'], shade=True, ax=ax)\n",
    "plt.title('Distirubtion of Users by Review Count');"
   ]
  },
  {
   "cell_type": "markdown",
   "metadata": {},
   "source": [
    "### Individual Review scarcity is one of the inherehnt challenges for collaborative filtering with this dataset"
   ]
  },
  {
   "cell_type": "code",
   "execution_count": 34,
   "metadata": {},
   "outputs": [
    {
     "data": {
      "text/html": [
       "<div>\n",
       "<style>\n",
       "    .dataframe thead tr:only-child th {\n",
       "        text-align: right;\n",
       "    }\n",
       "\n",
       "    .dataframe thead th {\n",
       "        text-align: left;\n",
       "    }\n",
       "\n",
       "    .dataframe tbody tr th {\n",
       "        vertical-align: top;\n",
       "    }\n",
       "</style>\n",
       "<table border=\"1\" class=\"dataframe\">\n",
       "  <thead>\n",
       "    <tr style=\"text-align: right;\">\n",
       "      <th></th>\n",
       "      <th>review_count</th>\n",
       "    </tr>\n",
       "  </thead>\n",
       "  <tbody>\n",
       "    <tr>\n",
       "      <th>count</th>\n",
       "      <td>1.326100e+06</td>\n",
       "    </tr>\n",
       "    <tr>\n",
       "      <th>mean</th>\n",
       "      <td>2.311717e+01</td>\n",
       "    </tr>\n",
       "    <tr>\n",
       "      <th>std</th>\n",
       "      <td>7.909808e+01</td>\n",
       "    </tr>\n",
       "    <tr>\n",
       "      <th>min</th>\n",
       "      <td>0.000000e+00</td>\n",
       "    </tr>\n",
       "    <tr>\n",
       "      <th>25%</th>\n",
       "      <td>2.000000e+00</td>\n",
       "    </tr>\n",
       "    <tr>\n",
       "      <th>50%</th>\n",
       "      <td>5.000000e+00</td>\n",
       "    </tr>\n",
       "    <tr>\n",
       "      <th>75%</th>\n",
       "      <td>1.500000e+01</td>\n",
       "    </tr>\n",
       "    <tr>\n",
       "      <th>max</th>\n",
       "      <td>1.195400e+04</td>\n",
       "    </tr>\n",
       "  </tbody>\n",
       "</table>\n",
       "</div>"
      ],
      "text/plain": [
       "       review_count\n",
       "count  1.326100e+06\n",
       "mean   2.311717e+01\n",
       "std    7.909808e+01\n",
       "min    0.000000e+00\n",
       "25%    2.000000e+00\n",
       "50%    5.000000e+00\n",
       "75%    1.500000e+01\n",
       "max    1.195400e+04"
      ]
     },
     "execution_count": 34,
     "metadata": {},
     "output_type": "execute_result"
    }
   ],
   "source": [
    "pd.DataFrame(user['review_count'].describe())"
   ]
  },
  {
   "cell_type": "markdown",
   "metadata": {},
   "source": [
    "### Mask User Dataset to Test Workability\n",
    "#### First Power Users w/ ' > 500' Reviews (to improve matches between businesses)"
   ]
  },
  {
   "cell_type": "code",
   "execution_count": 35,
   "metadata": {},
   "outputs": [],
   "source": [
    "user = user[user['review_count'] > 500]"
   ]
  },
  {
   "cell_type": "code",
   "execution_count": 36,
   "metadata": {},
   "outputs": [
    {
     "data": {
      "image/png": "[encoded data removed]",
      "text/plain": [
       "<matplotlib.figure.Figure at 0x15eb9d6d8>"
      ]
     },
     "metadata": {},
     "output_type": "display_data"
    }
   ],
   "source": [
    "fig, ax = plt.subplots(figsize=(10,6))\n",
    "sns.kdeplot(user['review_count'], shade=True, ax=ax)\n",
    "plt.title('Distirubtion of \"Power Users (>500 Review)\"');"
   ]
  },
  {
   "cell_type": "code",
   "execution_count": 37,
   "metadata": {},
   "outputs": [
    {
     "data": {
      "text/plain": [
       "5903"
      ]
     },
     "execution_count": 37,
     "metadata": {},
     "output_type": "execute_result"
    }
   ],
   "source": [
    "user['user_id'].value_counts().sum()"
   ]
  },
  {
   "cell_type": "markdown",
   "metadata": {},
   "source": [
    "### Truncate User Columns"
   ]
  },
  {
   "cell_type": "code",
   "execution_count": 38,
   "metadata": {},
   "outputs": [],
   "source": [
    "user_trunc = user[['user_id', 'review_count']]"
   ]
  },
  {
   "cell_type": "code",
   "execution_count": 39,
   "metadata": {},
   "outputs": [
    {
     "data": {
      "text/html": [
       "<div>\n",
       "<style>\n",
       "    .dataframe thead tr:only-child th {\n",
       "        text-align: right;\n",
       "    }\n",
       "\n",
       "    .dataframe thead th {\n",
       "        text-align: left;\n",
       "    }\n",
       "\n",
       "    .dataframe tbody tr th {\n",
       "        vertical-align: top;\n",
       "    }\n",
       "</style>\n",
       "<table border=\"1\" class=\"dataframe\">\n",
       "  <thead>\n",
       "    <tr style=\"text-align: right;\">\n",
       "      <th></th>\n",
       "      <th>user_id</th>\n",
       "      <th>review_count</th>\n",
       "    </tr>\n",
       "  </thead>\n",
       "  <tbody>\n",
       "    <tr>\n",
       "      <th>74</th>\n",
       "      <td>aw973Pm1nrTbRjP4zY9B9g</td>\n",
       "      <td>762</td>\n",
       "    </tr>\n",
       "    <tr>\n",
       "      <th>212</th>\n",
       "      <td>wm97KC6G0resSDXTmNIMKw</td>\n",
       "      <td>1262</td>\n",
       "    </tr>\n",
       "    <tr>\n",
       "      <th>730</th>\n",
       "      <td>oH9K7eCuNsYr6MmlM2ZjUg</td>\n",
       "      <td>902</td>\n",
       "    </tr>\n",
       "    <tr>\n",
       "      <th>756</th>\n",
       "      <td>bzMzZE3OCqHhZyXH5JRaWw</td>\n",
       "      <td>851</td>\n",
       "    </tr>\n",
       "    <tr>\n",
       "      <th>794</th>\n",
       "      <td>lmJy4OwP_TyHIg8a8Q0RsA</td>\n",
       "      <td>646</td>\n",
       "    </tr>\n",
       "  </tbody>\n",
       "</table>\n",
       "</div>"
      ],
      "text/plain": [
       "                    user_id  review_count\n",
       "74   aw973Pm1nrTbRjP4zY9B9g           762\n",
       "212  wm97KC6G0resSDXTmNIMKw          1262\n",
       "730  oH9K7eCuNsYr6MmlM2ZjUg           902\n",
       "756  bzMzZE3OCqHhZyXH5JRaWw           851\n",
       "794  lmJy4OwP_TyHIg8a8Q0RsA           646"
      ]
     },
     "execution_count": 39,
     "metadata": {},
     "output_type": "execute_result"
    }
   ],
   "source": [
    "user_trunc.head()"
   ]
  },
  {
   "cell_type": "code",
   "execution_count": 40,
   "metadata": {},
   "outputs": [
    {
     "data": {
      "text/plain": [
       "(5903, 2)"
      ]
     },
     "execution_count": 40,
     "metadata": {},
     "output_type": "execute_result"
    }
   ],
   "source": [
    "user_trunc.shape"
   ]
  },
  {
   "cell_type": "markdown",
   "metadata": {},
   "source": [
    "### Read Review Dataset\n",
    "#### This Dataset includes ~ 4.5 million reviews, to increase speed I am limiting number of rows at import"
   ]
  },
  {
   "cell_type": "code",
   "execution_count": 179,
   "metadata": {},
   "outputs": [],
   "source": [
    "reviews = pd.read_csv('../yelp_academic_dataset/yelp_review.csv') #nrows=500000)"
   ]
  },
  {
   "cell_type": "code",
   "execution_count": 188,
   "metadata": {},
   "outputs": [
    {
     "data": {
      "text/html": [
       "<div>\n",
       "<style>\n",
       "    .dataframe thead tr:only-child th {\n",
       "        text-align: right;\n",
       "    }\n",
       "\n",
       "    .dataframe thead th {\n",
       "        text-align: left;\n",
       "    }\n",
       "\n",
       "    .dataframe tbody tr th {\n",
       "        vertical-align: top;\n",
       "    }\n",
       "</style>\n",
       "<table border=\"1\" class=\"dataframe\">\n",
       "  <thead>\n",
       "    <tr style=\"text-align: right;\">\n",
       "      <th></th>\n",
       "      <th>review_id</th>\n",
       "      <th>user_id</th>\n",
       "      <th>business_id</th>\n",
       "      <th>stars</th>\n",
       "      <th>date</th>\n",
       "      <th>text</th>\n",
       "      <th>useful</th>\n",
       "      <th>funny</th>\n",
       "      <th>cool</th>\n",
       "    </tr>\n",
       "  </thead>\n",
       "  <tbody>\n",
       "    <tr>\n",
       "      <th>0</th>\n",
       "      <td>vkVSCC7xljjrAI4UGfnKEQ</td>\n",
       "      <td>bv2nCi5Qv5vroFiqKGopiw</td>\n",
       "      <td>AEx2SYEUJmTxVVB18LlCwA</td>\n",
       "      <td>5</td>\n",
       "      <td>2016-05-28</td>\n",
       "      <td>Super simple place but amazing nonetheless. It...</td>\n",
       "      <td>0</td>\n",
       "      <td>0</td>\n",
       "      <td>0</td>\n",
       "    </tr>\n",
       "    <tr>\n",
       "      <th>1</th>\n",
       "      <td>n6QzIUObkYshz4dz2QRJTw</td>\n",
       "      <td>bv2nCi5Qv5vroFiqKGopiw</td>\n",
       "      <td>VR6GpWIda3SfvPC-lg9H3w</td>\n",
       "      <td>5</td>\n",
       "      <td>2016-05-28</td>\n",
       "      <td>Small unassuming place that changes their menu...</td>\n",
       "      <td>0</td>\n",
       "      <td>0</td>\n",
       "      <td>0</td>\n",
       "    </tr>\n",
       "    <tr>\n",
       "      <th>2</th>\n",
       "      <td>MV3CcKScW05u5LVfF6ok0g</td>\n",
       "      <td>bv2nCi5Qv5vroFiqKGopiw</td>\n",
       "      <td>CKC0-MOWMqoeWf6s-szl8g</td>\n",
       "      <td>5</td>\n",
       "      <td>2016-05-28</td>\n",
       "      <td>Lester's is located in a beautiful neighborhoo...</td>\n",
       "      <td>0</td>\n",
       "      <td>0</td>\n",
       "      <td>0</td>\n",
       "    </tr>\n",
       "    <tr>\n",
       "      <th>3</th>\n",
       "      <td>IXvOzsEMYtiJI0CARmj77Q</td>\n",
       "      <td>bv2nCi5Qv5vroFiqKGopiw</td>\n",
       "      <td>ACFtxLv8pGrrxMm6EgjreA</td>\n",
       "      <td>4</td>\n",
       "      <td>2016-05-28</td>\n",
       "      <td>Love coming here. Yes the place always needs t...</td>\n",
       "      <td>0</td>\n",
       "      <td>0</td>\n",
       "      <td>0</td>\n",
       "    </tr>\n",
       "    <tr>\n",
       "      <th>4</th>\n",
       "      <td>L_9BTb55X0GDtThi6GlZ6w</td>\n",
       "      <td>bv2nCi5Qv5vroFiqKGopiw</td>\n",
       "      <td>s2I_Ni76bjJNK9yG60iD-Q</td>\n",
       "      <td>4</td>\n",
       "      <td>2016-05-28</td>\n",
       "      <td>Had their chocolate almond croissant and it wa...</td>\n",
       "      <td>0</td>\n",
       "      <td>0</td>\n",
       "      <td>0</td>\n",
       "    </tr>\n",
       "  </tbody>\n",
       "</table>\n",
       "</div>"
      ],
      "text/plain": [
       "                review_id                 user_id             business_id  \\\n",
       "0  vkVSCC7xljjrAI4UGfnKEQ  bv2nCi5Qv5vroFiqKGopiw  AEx2SYEUJmTxVVB18LlCwA   \n",
       "1  n6QzIUObkYshz4dz2QRJTw  bv2nCi5Qv5vroFiqKGopiw  VR6GpWIda3SfvPC-lg9H3w   \n",
       "2  MV3CcKScW05u5LVfF6ok0g  bv2nCi5Qv5vroFiqKGopiw  CKC0-MOWMqoeWf6s-szl8g   \n",
       "3  IXvOzsEMYtiJI0CARmj77Q  bv2nCi5Qv5vroFiqKGopiw  ACFtxLv8pGrrxMm6EgjreA   \n",
       "4  L_9BTb55X0GDtThi6GlZ6w  bv2nCi5Qv5vroFiqKGopiw  s2I_Ni76bjJNK9yG60iD-Q   \n",
       "\n",
       "   stars        date                                               text  \\\n",
       "0      5  2016-05-28  Super simple place but amazing nonetheless. It...   \n",
       "1      5  2016-05-28  Small unassuming place that changes their menu...   \n",
       "2      5  2016-05-28  Lester's is located in a beautiful neighborhoo...   \n",
       "3      4  2016-05-28  Love coming here. Yes the place always needs t...   \n",
       "4      4  2016-05-28  Had their chocolate almond croissant and it wa...   \n",
       "\n",
       "   useful  funny  cool  \n",
       "0       0      0     0  \n",
       "1       0      0     0  \n",
       "2       0      0     0  \n",
       "3       0      0     0  \n",
       "4       0      0     0  "
      ]
     },
     "execution_count": 188,
     "metadata": {},
     "output_type": "execute_result"
    }
   ],
   "source": [
    "reviews.head()"
   ]
  },
  {
   "cell_type": "code",
   "execution_count": 189,
   "metadata": {},
   "outputs": [
    {
     "data": {
      "text/plain": [
       "(5261668, 9)"
      ]
     },
     "execution_count": 189,
     "metadata": {},
     "output_type": "execute_result"
    }
   ],
   "source": [
    "reviews.shape"
   ]
  },
  {
   "cell_type": "code",
   "execution_count": 190,
   "metadata": {},
   "outputs": [
    {
     "data": {
      "image/png": "[encoded data removed]",
      "text/plain": [
       "<matplotlib.figure.Figure at 0x11896f828>"
      ]
     },
     "metadata": {},
     "output_type": "display_data"
    }
   ],
   "source": [
    "fig, ax = plt.subplots(figsize=(8,4))\n",
    "sns.distplot(reviews['stars'], kde=False, color='red', ax=ax)\n",
    "plt.title(\"Distribution of Star Ratings (1-5)\");"
   ]
  },
  {
   "cell_type": "code",
   "execution_count": 191,
   "metadata": {},
   "outputs": [
    {
     "data": {
      "text/html": [
       "<div>\n",
       "<style>\n",
       "    .dataframe thead tr:only-child th {\n",
       "        text-align: right;\n",
       "    }\n",
       "\n",
       "    .dataframe thead th {\n",
       "        text-align: left;\n",
       "    }\n",
       "\n",
       "    .dataframe tbody tr th {\n",
       "        vertical-align: top;\n",
       "    }\n",
       "</style>\n",
       "<table border=\"1\" class=\"dataframe\">\n",
       "  <thead>\n",
       "    <tr style=\"text-align: right;\">\n",
       "      <th></th>\n",
       "      <th>stars</th>\n",
       "    </tr>\n",
       "  </thead>\n",
       "  <tbody>\n",
       "    <tr>\n",
       "      <th>count</th>\n",
       "      <td>5.261668e+06</td>\n",
       "    </tr>\n",
       "    <tr>\n",
       "      <th>mean</th>\n",
       "      <td>3.727739e+00</td>\n",
       "    </tr>\n",
       "    <tr>\n",
       "      <th>std</th>\n",
       "      <td>1.433593e+00</td>\n",
       "    </tr>\n",
       "    <tr>\n",
       "      <th>min</th>\n",
       "      <td>1.000000e+00</td>\n",
       "    </tr>\n",
       "    <tr>\n",
       "      <th>25%</th>\n",
       "      <td>3.000000e+00</td>\n",
       "    </tr>\n",
       "    <tr>\n",
       "      <th>50%</th>\n",
       "      <td>4.000000e+00</td>\n",
       "    </tr>\n",
       "    <tr>\n",
       "      <th>75%</th>\n",
       "      <td>5.000000e+00</td>\n",
       "    </tr>\n",
       "    <tr>\n",
       "      <th>max</th>\n",
       "      <td>5.000000e+00</td>\n",
       "    </tr>\n",
       "  </tbody>\n",
       "</table>\n",
       "</div>"
      ],
      "text/plain": [
       "              stars\n",
       "count  5.261668e+06\n",
       "mean   3.727739e+00\n",
       "std    1.433593e+00\n",
       "min    1.000000e+00\n",
       "25%    3.000000e+00\n",
       "50%    4.000000e+00\n",
       "75%    5.000000e+00\n",
       "max    5.000000e+00"
      ]
     },
     "execution_count": 191,
     "metadata": {},
     "output_type": "execute_result"
    }
   ],
   "source": [
    "pd.DataFrame(reviews['stars'].describe())"
   ]
  },
  {
   "cell_type": "markdown",
   "metadata": {},
   "source": [
    "### Truncate Review Columns"
   ]
  },
  {
   "cell_type": "code",
   "execution_count": 192,
   "metadata": {},
   "outputs": [],
   "source": [
    "reviews_trunc = reviews[['review_id', 'user_id', 'business_id','stars']]"
   ]
  },
  {
   "cell_type": "code",
   "execution_count": 193,
   "metadata": {},
   "outputs": [
    {
     "data": {
      "text/html": [
       "<div>\n",
       "<style>\n",
       "    .dataframe thead tr:only-child th {\n",
       "        text-align: right;\n",
       "    }\n",
       "\n",
       "    .dataframe thead th {\n",
       "        text-align: left;\n",
       "    }\n",
       "\n",
       "    .dataframe tbody tr th {\n",
       "        vertical-align: top;\n",
       "    }\n",
       "</style>\n",
       "<table border=\"1\" class=\"dataframe\">\n",
       "  <thead>\n",
       "    <tr style=\"text-align: right;\">\n",
       "      <th></th>\n",
       "      <th>review_id</th>\n",
       "      <th>user_id</th>\n",
       "      <th>business_id</th>\n",
       "      <th>stars</th>\n",
       "    </tr>\n",
       "  </thead>\n",
       "  <tbody>\n",
       "    <tr>\n",
       "      <th>0</th>\n",
       "      <td>vkVSCC7xljjrAI4UGfnKEQ</td>\n",
       "      <td>bv2nCi5Qv5vroFiqKGopiw</td>\n",
       "      <td>AEx2SYEUJmTxVVB18LlCwA</td>\n",
       "      <td>5</td>\n",
       "    </tr>\n",
       "    <tr>\n",
       "      <th>1</th>\n",
       "      <td>n6QzIUObkYshz4dz2QRJTw</td>\n",
       "      <td>bv2nCi5Qv5vroFiqKGopiw</td>\n",
       "      <td>VR6GpWIda3SfvPC-lg9H3w</td>\n",
       "      <td>5</td>\n",
       "    </tr>\n",
       "    <tr>\n",
       "      <th>2</th>\n",
       "      <td>MV3CcKScW05u5LVfF6ok0g</td>\n",
       "      <td>bv2nCi5Qv5vroFiqKGopiw</td>\n",
       "      <td>CKC0-MOWMqoeWf6s-szl8g</td>\n",
       "      <td>5</td>\n",
       "    </tr>\n",
       "    <tr>\n",
       "      <th>3</th>\n",
       "      <td>IXvOzsEMYtiJI0CARmj77Q</td>\n",
       "      <td>bv2nCi5Qv5vroFiqKGopiw</td>\n",
       "      <td>ACFtxLv8pGrrxMm6EgjreA</td>\n",
       "      <td>4</td>\n",
       "    </tr>\n",
       "    <tr>\n",
       "      <th>4</th>\n",
       "      <td>L_9BTb55X0GDtThi6GlZ6w</td>\n",
       "      <td>bv2nCi5Qv5vroFiqKGopiw</td>\n",
       "      <td>s2I_Ni76bjJNK9yG60iD-Q</td>\n",
       "      <td>4</td>\n",
       "    </tr>\n",
       "    <tr>\n",
       "      <th>5</th>\n",
       "      <td>HRPm3vEZ_F-33TYVT7Pebw</td>\n",
       "      <td>_4iMDXbXZ1p1ONG297YEAQ</td>\n",
       "      <td>8QWPlVQ6D-OExqXoaD2Z1g</td>\n",
       "      <td>5</td>\n",
       "    </tr>\n",
       "    <tr>\n",
       "      <th>6</th>\n",
       "      <td>ymAUG8DZfQcFTBSOiaNN4w</td>\n",
       "      <td>u0LXt3Uea_GidxRW1xcsfg</td>\n",
       "      <td>9_CGhHMz8698M9-PkVf0CQ</td>\n",
       "      <td>4</td>\n",
       "    </tr>\n",
       "    <tr>\n",
       "      <th>7</th>\n",
       "      <td>8UIishPUD92hXtScSga_gw</td>\n",
       "      <td>u0LXt3Uea_GidxRW1xcsfg</td>\n",
       "      <td>gkCorLgPyQLsptTHalL61g</td>\n",
       "      <td>4</td>\n",
       "    </tr>\n",
       "    <tr>\n",
       "      <th>8</th>\n",
       "      <td>w41ZS9shepfO3uEyhXEWuQ</td>\n",
       "      <td>u0LXt3Uea_GidxRW1xcsfg</td>\n",
       "      <td>5r6-G9C4YLbC7Ziz57l3rQ</td>\n",
       "      <td>3</td>\n",
       "    </tr>\n",
       "    <tr>\n",
       "      <th>9</th>\n",
       "      <td>WF_QTN3p-thD74hqpp2j-Q</td>\n",
       "      <td>u0LXt3Uea_GidxRW1xcsfg</td>\n",
       "      <td>fDF_o2JPU8BR1Gya--jRIA</td>\n",
       "      <td>5</td>\n",
       "    </tr>\n",
       "  </tbody>\n",
       "</table>\n",
       "</div>"
      ],
      "text/plain": [
       "                review_id                 user_id             business_id  \\\n",
       "0  vkVSCC7xljjrAI4UGfnKEQ  bv2nCi5Qv5vroFiqKGopiw  AEx2SYEUJmTxVVB18LlCwA   \n",
       "1  n6QzIUObkYshz4dz2QRJTw  bv2nCi5Qv5vroFiqKGopiw  VR6GpWIda3SfvPC-lg9H3w   \n",
       "2  MV3CcKScW05u5LVfF6ok0g  bv2nCi5Qv5vroFiqKGopiw  CKC0-MOWMqoeWf6s-szl8g   \n",
       "3  IXvOzsEMYtiJI0CARmj77Q  bv2nCi5Qv5vroFiqKGopiw  ACFtxLv8pGrrxMm6EgjreA   \n",
       "4  L_9BTb55X0GDtThi6GlZ6w  bv2nCi5Qv5vroFiqKGopiw  s2I_Ni76bjJNK9yG60iD-Q   \n",
       "5  HRPm3vEZ_F-33TYVT7Pebw  _4iMDXbXZ1p1ONG297YEAQ  8QWPlVQ6D-OExqXoaD2Z1g   \n",
       "6  ymAUG8DZfQcFTBSOiaNN4w  u0LXt3Uea_GidxRW1xcsfg  9_CGhHMz8698M9-PkVf0CQ   \n",
       "7  8UIishPUD92hXtScSga_gw  u0LXt3Uea_GidxRW1xcsfg  gkCorLgPyQLsptTHalL61g   \n",
       "8  w41ZS9shepfO3uEyhXEWuQ  u0LXt3Uea_GidxRW1xcsfg  5r6-G9C4YLbC7Ziz57l3rQ   \n",
       "9  WF_QTN3p-thD74hqpp2j-Q  u0LXt3Uea_GidxRW1xcsfg  fDF_o2JPU8BR1Gya--jRIA   \n",
       "\n",
       "   stars  \n",
       "0      5  \n",
       "1      5  \n",
       "2      5  \n",
       "3      4  \n",
       "4      4  \n",
       "5      5  \n",
       "6      4  \n",
       "7      4  \n",
       "8      3  \n",
       "9      5  "
      ]
     },
     "execution_count": 193,
     "metadata": {},
     "output_type": "execute_result"
    }
   ],
   "source": [
    "reviews_trunc.head(10)"
   ]
  },
  {
   "cell_type": "markdown",
   "metadata": {},
   "source": [
    "### Merge Datasets so that Masks create a limited a single DataFrame"
   ]
  },
  {
   "cell_type": "code",
   "execution_count": 223,
   "metadata": {},
   "outputs": [],
   "source": [
    "df = reviews_trunc.merge(user_trunc, how='inner', on='user_id').merge(business_trunc, how='inner', on='business_id')"
   ]
  },
  {
   "cell_type": "code",
   "execution_count": 224,
   "metadata": {},
   "outputs": [
    {
     "data": {
      "text/plain": [
       "(31908, 9)"
      ]
     },
     "execution_count": 224,
     "metadata": {},
     "output_type": "execute_result"
    }
   ],
   "source": [
    "df.shape"
   ]
  },
  {
   "cell_type": "markdown",
   "metadata": {},
   "source": [
    "### Drop Columns not needed for Model"
   ]
  },
  {
   "cell_type": "code",
   "execution_count": 225,
   "metadata": {},
   "outputs": [],
   "source": [
    "df.drop(['review_id','review_count_x', 'name', 'city', 'state', 'review_count_y'], axis=1, inplace=True)"
   ]
  },
  {
   "cell_type": "code",
   "execution_count": 226,
   "metadata": {},
   "outputs": [
    {
     "data": {
      "text/html": [
       "<div>\n",
       "<style>\n",
       "    .dataframe thead tr:only-child th {\n",
       "        text-align: right;\n",
       "    }\n",
       "\n",
       "    .dataframe thead th {\n",
       "        text-align: left;\n",
       "    }\n",
       "\n",
       "    .dataframe tbody tr th {\n",
       "        vertical-align: top;\n",
       "    }\n",
       "</style>\n",
       "<table border=\"1\" class=\"dataframe\">\n",
       "  <thead>\n",
       "    <tr style=\"text-align: right;\">\n",
       "      <th></th>\n",
       "      <th>user_id</th>\n",
       "      <th>business_id</th>\n",
       "      <th>stars</th>\n",
       "    </tr>\n",
       "  </thead>\n",
       "  <tbody>\n",
       "    <tr>\n",
       "      <th>0</th>\n",
       "      <td>tL2pS5UOmN6aAOi3Z-qFGg</td>\n",
       "      <td>eAc9Vd6loOgRQolMXQt6FA</td>\n",
       "      <td>4</td>\n",
       "    </tr>\n",
       "    <tr>\n",
       "      <th>1</th>\n",
       "      <td>3wB-JjsUjkvdNUDRnChsVg</td>\n",
       "      <td>eAc9Vd6loOgRQolMXQt6FA</td>\n",
       "      <td>4</td>\n",
       "    </tr>\n",
       "    <tr>\n",
       "      <th>2</th>\n",
       "      <td>3EAHMMsNnN4rrQVPPuzdnw</td>\n",
       "      <td>eAc9Vd6loOgRQolMXQt6FA</td>\n",
       "      <td>3</td>\n",
       "    </tr>\n",
       "    <tr>\n",
       "      <th>3</th>\n",
       "      <td>m8nDqQ7a3zQWfkNK1_vwnQ</td>\n",
       "      <td>eAc9Vd6loOgRQolMXQt6FA</td>\n",
       "      <td>4</td>\n",
       "    </tr>\n",
       "    <tr>\n",
       "      <th>4</th>\n",
       "      <td>-hxUwfo3cMnLTv-CAaP69A</td>\n",
       "      <td>eAc9Vd6loOgRQolMXQt6FA</td>\n",
       "      <td>4</td>\n",
       "    </tr>\n",
       "  </tbody>\n",
       "</table>\n",
       "</div>"
      ],
      "text/plain": [
       "                  user_id             business_id  stars\n",
       "0  tL2pS5UOmN6aAOi3Z-qFGg  eAc9Vd6loOgRQolMXQt6FA      4\n",
       "1  3wB-JjsUjkvdNUDRnChsVg  eAc9Vd6loOgRQolMXQt6FA      4\n",
       "2  3EAHMMsNnN4rrQVPPuzdnw  eAc9Vd6loOgRQolMXQt6FA      3\n",
       "3  m8nDqQ7a3zQWfkNK1_vwnQ  eAc9Vd6loOgRQolMXQt6FA      4\n",
       "4  -hxUwfo3cMnLTv-CAaP69A  eAc9Vd6loOgRQolMXQt6FA      4"
      ]
     },
     "execution_count": 226,
     "metadata": {},
     "output_type": "execute_result"
    }
   ],
   "source": [
    "df.head()"
   ]
  },
  {
   "cell_type": "code",
   "execution_count": 227,
   "metadata": {},
   "outputs": [
    {
     "data": {
      "text/plain": [
       "(31908, 3)"
      ]
     },
     "execution_count": 227,
     "metadata": {},
     "output_type": "execute_result"
    }
   ],
   "source": [
    "df.shape"
   ]
  },
  {
   "cell_type": "markdown",
   "metadata": {},
   "source": [
    "#### Set Minimum # of User Reviews to Be Included"
   ]
  },
  {
   "cell_type": "code",
   "execution_count": 228,
   "metadata": {},
   "outputs": [],
   "source": [
    "df = df.groupby('user_id').filter(lambda group: len(group) > 10)"
   ]
  },
  {
   "cell_type": "markdown",
   "metadata": {},
   "source": [
    "#### Set Minimum # of Business Reviews to Be Included"
   ]
  },
  {
   "cell_type": "code",
   "execution_count": 229,
   "metadata": {},
   "outputs": [],
   "source": [
    "df = df.groupby('business_id').filter(lambda group: len(group) > 20)"
   ]
  },
  {
   "cell_type": "markdown",
   "metadata": {},
   "source": [
    "### DataFrame Descrptition  "
   ]
  },
  {
   "cell_type": "code",
   "execution_count": 230,
   "metadata": {},
   "outputs": [
    {
     "name": "stdout",
     "output_type": "stream",
     "text": [
      "\n",
      "\n",
      "Number of reviews included: 18764 \n",
      "\n",
      "Number of unique users included: 928\n",
      "\n",
      "Number of unique businesses included: 182\n",
      "\n",
      "\n"
     ]
    }
   ],
   "source": [
    "print(\"\\n\")\n",
    "print(\"Number of reviews included: %s \" %df.shape[0])\n",
    "print(\"\")\n",
    "print(\"Number of unique users included: %s\" %df['user_id'].unique().size)\n",
    "print(\"\")\n",
    "print(\"Number of unique businesses included: %s\" %df['business_id'].unique().size)\n",
    "print(\"\\n\")"
   ]
  },
  {
   "cell_type": "code",
   "execution_count": 231,
   "metadata": {},
   "outputs": [
    {
     "data": {
      "image/png": "[encoded data removed]",
      "text/plain": [
       "<matplotlib.figure.Figure at 0x121a74cf8>"
      ]
     },
     "metadata": {},
     "output_type": "display_data"
    }
   ],
   "source": [
    "sns.distplot(df['user_id'].value_counts(), axlabel='Reviews/User')\n",
    "plt.title(\"Distribution of Reviews/User\");"
   ]
  },
  {
   "cell_type": "code",
   "execution_count": 232,
   "metadata": {},
   "outputs": [
    {
     "data": {
      "image/png": "[encoded data removed]",
      "text/plain": [
       "<matplotlib.figure.Figure at 0x179dd84e0>"
      ]
     },
     "metadata": {},
     "output_type": "display_data"
    }
   ],
   "source": [
    "sns.distplot(df['business_id'].value_counts(), axlabel='Reviews/Business')\n",
    "plt.title(\"Distribution of Reviews/Business\");"
   ]
  },
  {
   "cell_type": "code",
   "execution_count": 233,
   "metadata": {},
   "outputs": [
    {
     "data": {
      "image/png": "[encoded data removed]",
      "text/plain": [
       "<matplotlib.figure.Figure at 0x1774b5160>"
      ]
     },
     "metadata": {},
     "output_type": "display_data"
    }
   ],
   "source": [
    "fig, ax = plt.subplots(figsize=(8,4))\n",
    "sns.distplot(df['stars'], kde=False, color='red', ax=ax)\n",
    "plt.title(\"Distribution of Review Star Ratings (1-5)\");"
   ]
  },
  {
   "cell_type": "code",
   "execution_count": 234,
   "metadata": {},
   "outputs": [
    {
     "data": {
      "text/html": [
       "<div>\n",
       "<style>\n",
       "    .dataframe thead tr:only-child th {\n",
       "        text-align: right;\n",
       "    }\n",
       "\n",
       "    .dataframe thead th {\n",
       "        text-align: left;\n",
       "    }\n",
       "\n",
       "    .dataframe tbody tr th {\n",
       "        vertical-align: top;\n",
       "    }\n",
       "</style>\n",
       "<table border=\"1\" class=\"dataframe\">\n",
       "  <thead>\n",
       "    <tr style=\"text-align: right;\">\n",
       "      <th></th>\n",
       "      <th>stars</th>\n",
       "    </tr>\n",
       "  </thead>\n",
       "  <tbody>\n",
       "    <tr>\n",
       "      <th>count</th>\n",
       "      <td>18764.000000</td>\n",
       "    </tr>\n",
       "    <tr>\n",
       "      <th>mean</th>\n",
       "      <td>3.805052</td>\n",
       "    </tr>\n",
       "    <tr>\n",
       "      <th>std</th>\n",
       "      <td>0.977792</td>\n",
       "    </tr>\n",
       "    <tr>\n",
       "      <th>min</th>\n",
       "      <td>1.000000</td>\n",
       "    </tr>\n",
       "    <tr>\n",
       "      <th>25%</th>\n",
       "      <td>3.000000</td>\n",
       "    </tr>\n",
       "    <tr>\n",
       "      <th>50%</th>\n",
       "      <td>4.000000</td>\n",
       "    </tr>\n",
       "    <tr>\n",
       "      <th>75%</th>\n",
       "      <td>5.000000</td>\n",
       "    </tr>\n",
       "    <tr>\n",
       "      <th>max</th>\n",
       "      <td>5.000000</td>\n",
       "    </tr>\n",
       "  </tbody>\n",
       "</table>\n",
       "</div>"
      ],
      "text/plain": [
       "              stars\n",
       "count  18764.000000\n",
       "mean       3.805052\n",
       "std        0.977792\n",
       "min        1.000000\n",
       "25%        3.000000\n",
       "50%        4.000000\n",
       "75%        5.000000\n",
       "max        5.000000"
      ]
     },
     "execution_count": 234,
     "metadata": {},
     "output_type": "execute_result"
    }
   ],
   "source": [
    "pd.DataFrame(df['stars'].describe())"
   ]
  },
  {
   "cell_type": "markdown",
   "metadata": {},
   "source": [
    "## Create/Test Models Using Surprise Package"
   ]
  },
  {
   "cell_type": "code",
   "execution_count": 235,
   "metadata": {},
   "outputs": [
    {
     "name": "stdout",
     "output_type": "stream",
     "text": [
      "RMSE: 0.8811\n",
      "0.8811015744924648\n",
      "MAE:  0.6943\n",
      "0.6943135254660338\n"
     ]
    }
   ],
   "source": [
    "\n",
    "# Create Reader w/ Scale to Import DataFrame into Surprise\n",
    "reader = Reader(rating_scale=(1, 5))\n",
    "\n",
    "# The columns must correspond to user id, item id and ratings (in that order).\n",
    "data = Dataset.load_from_df(df[['user_id', 'business_id', 'stars']], reader)\n",
    "\n",
    "# Define Algorithm for Model\n",
    "\n",
    "# algo = sim_options = {'name': 'cosine',\n",
    "#                 'user_based': True  # compute  similarities between items\n",
    "#                 }\n",
    "# algo = KNNBasic(sim_options=sim_options)\n",
    "\n",
    "algo = SVD()\n",
    "\n",
    "# Use Train_Test_Split on data\n",
    "trainset, testset = train_test_split(data=data, test_size=.3, random_state=9)\n",
    "\n",
    "# Train the algorithm on the trainset, and predict ratings for the testset\n",
    "algo.fit(trainset)\n",
    "predictions = algo.test(testset)\n",
    "\n",
    "# Then compute RMSE & MAE\n",
    "print(accuracy.rmse(predictions))\n",
    "print(accuracy.mae(predictions))"
   ]
  },
  {
   "cell_type": "markdown",
   "metadata": {},
   "source": [
    "## Create Function to Rank Top Predictions(Recommended Businesses) / User"
   ]
  },
  {
   "cell_type": "code",
   "execution_count": 236,
   "metadata": {},
   "outputs": [
    {
     "name": "stdout",
     "output_type": "stream",
     "text": [
      "Computing the cosine similarity matrix...\n",
      "Done computing similarity matrix.\n"
     ]
    },
    {
     "data": {
      "text/html": [
       "<div>\n",
       "<style>\n",
       "    .dataframe thead tr:only-child th {\n",
       "        text-align: right;\n",
       "    }\n",
       "\n",
       "    .dataframe thead th {\n",
       "        text-align: left;\n",
       "    }\n",
       "\n",
       "    .dataframe tbody tr th {\n",
       "        vertical-align: top;\n",
       "    }\n",
       "</style>\n",
       "<table border=\"1\" class=\"dataframe\">\n",
       "  <thead>\n",
       "    <tr style=\"text-align: right;\">\n",
       "      <th></th>\n",
       "      <th>user_id</th>\n",
       "      <th>1st Recommendation</th>\n",
       "      <th>1st Est Rating</th>\n",
       "      <th>2nd Recommendation</th>\n",
       "      <th>2nd Est Rating</th>\n",
       "      <th>3rd Recommendation</th>\n",
       "      <th>3rd Est Rating</th>\n",
       "    </tr>\n",
       "  </thead>\n",
       "  <tbody>\n",
       "    <tr>\n",
       "      <th>0</th>\n",
       "      <td>tL2pS5UOmN6aAOi3Z-qFGg</td>\n",
       "      <td>4GXII-GU7S0ZyU6ElkhscQ</td>\n",
       "      <td>3.145804</td>\n",
       "      <td>Xj7DIGRHEchJ-VVdISazQQ</td>\n",
       "      <td>3.142399</td>\n",
       "      <td>6tSvz_21BMo3a4GaItwa0g</td>\n",
       "      <td>3.133896</td>\n",
       "    </tr>\n",
       "    <tr>\n",
       "      <th>1</th>\n",
       "      <td>3wB-JjsUjkvdNUDRnChsVg</td>\n",
       "      <td>A-uZAD4zP3rRxb44WUGV5w</td>\n",
       "      <td>3.699255</td>\n",
       "      <td>IT_4EEIbv6Ox1jBRMyE7pg</td>\n",
       "      <td>3.659101</td>\n",
       "      <td>JDZ6_yycNQFTpUZzLIKHUg</td>\n",
       "      <td>3.656280</td>\n",
       "    </tr>\n",
       "    <tr>\n",
       "      <th>2</th>\n",
       "      <td>-hxUwfo3cMnLTv-CAaP69A</td>\n",
       "      <td>gTlDDzDEHyDQ6iwjNhpI6A</td>\n",
       "      <td>3.705154</td>\n",
       "      <td>hihud--QRriCYZw1zZvW4g</td>\n",
       "      <td>3.686170</td>\n",
       "      <td>6tSvz_21BMo3a4GaItwa0g</td>\n",
       "      <td>3.646691</td>\n",
       "    </tr>\n",
       "    <tr>\n",
       "      <th>3</th>\n",
       "      <td>EE9txZm_zUFqWeYGVGaFNg</td>\n",
       "      <td>BIBWGO_r_1znnlmLbp4Nxg</td>\n",
       "      <td>4.013595</td>\n",
       "      <td>L_ZLtfHvfzfoNVQ0-okTXg</td>\n",
       "      <td>4.012292</td>\n",
       "      <td>eEnNw3_hBvxcFHyr23kAuA</td>\n",
       "      <td>4.012062</td>\n",
       "    </tr>\n",
       "    <tr>\n",
       "      <th>4</th>\n",
       "      <td>ZbkA2bI3HGqQmy_z-YWAmg</td>\n",
       "      <td>6Q7-wkCPc1KF75jZLOTcMw</td>\n",
       "      <td>3.853124</td>\n",
       "      <td>L_ZLtfHvfzfoNVQ0-okTXg</td>\n",
       "      <td>3.846986</td>\n",
       "      <td>HhVmDybpU7L50Kb5A0jXTg</td>\n",
       "      <td>3.844637</td>\n",
       "    </tr>\n",
       "  </tbody>\n",
       "</table>\n",
       "</div>"
      ],
      "text/plain": [
       "                  user_id      1st Recommendation  1st Est Rating  \\\n",
       "0  tL2pS5UOmN6aAOi3Z-qFGg  4GXII-GU7S0ZyU6ElkhscQ        3.145804   \n",
       "1  3wB-JjsUjkvdNUDRnChsVg  A-uZAD4zP3rRxb44WUGV5w        3.699255   \n",
       "2  -hxUwfo3cMnLTv-CAaP69A  gTlDDzDEHyDQ6iwjNhpI6A        3.705154   \n",
       "3  EE9txZm_zUFqWeYGVGaFNg  BIBWGO_r_1znnlmLbp4Nxg        4.013595   \n",
       "4  ZbkA2bI3HGqQmy_z-YWAmg  6Q7-wkCPc1KF75jZLOTcMw        3.853124   \n",
       "\n",
       "       2nd Recommendation  2nd Est Rating      3rd Recommendation  \\\n",
       "0  Xj7DIGRHEchJ-VVdISazQQ        3.142399  6tSvz_21BMo3a4GaItwa0g   \n",
       "1  IT_4EEIbv6Ox1jBRMyE7pg        3.659101  JDZ6_yycNQFTpUZzLIKHUg   \n",
       "2  hihud--QRriCYZw1zZvW4g        3.686170  6tSvz_21BMo3a4GaItwa0g   \n",
       "3  L_ZLtfHvfzfoNVQ0-okTXg        4.012292  eEnNw3_hBvxcFHyr23kAuA   \n",
       "4  L_ZLtfHvfzfoNVQ0-okTXg        3.846986  HhVmDybpU7L50Kb5A0jXTg   \n",
       "\n",
       "   3rd Est Rating  \n",
       "0        3.133896  \n",
       "1        3.656280  \n",
       "2        3.646691  \n",
       "3        4.012062  \n",
       "4        3.844637  "
      ]
     },
     "execution_count": 236,
     "metadata": {},
     "output_type": "execute_result"
    }
   ],
   "source": [
    "def get_top_n(predictions, n=10):\n",
    "    '''Return the top-N recommendation for each user from a set of predictions.\n",
    "\n",
    "    Args:\n",
    "        predictions(list of Prediction objects): The list of predictions, as\n",
    "            returned by the test method of an algorithm.\n",
    "        n(int): The number of recommendation to output for each user. Default\n",
    "            is 10.\n",
    "\n",
    "    Returns:\n",
    "    A dict where keys are user (raw) ids and values are lists of tuples:\n",
    "        [(raw item id, rating estimation), ...] of size n.\n",
    "    '''\n",
    "\n",
    "    # First map the predictions to each user.\n",
    "    top_n = defaultdict(list)\n",
    "    for uid, iid, true_r, est, _ in predictions:\n",
    "        top_n[uid].append((iid, est))\n",
    "\n",
    "    # Then sort the predictions for each user and retrieve the k highest ones.\n",
    "    for uid, user_ratings in top_n.items():\n",
    "        user_ratings.sort(key=lambda x: x[1], reverse=True)\n",
    "        top_n[uid] = user_ratings[:n]\n",
    "\n",
    "    return top_n\n",
    "\n",
    "\n",
    "# First train an SVD algorithm on the movielens dataset.\n",
    "trainset = data.build_full_trainset()\n",
    "algo = sim_options = {'name': 'cosine',\n",
    "                'user_based': False  # compute  similarities between items \n",
    "                }\n",
    "#algo = SVD()\n",
    "               \n",
    "algo = KNNBasic(sim_options=sim_options)\n",
    "algo.fit(trainset)\n",
    "\n",
    "# Than predict ratings for all pairs (u, i) that are NOT in the training set.\n",
    "testset = trainset.build_anti_testset()\n",
    "predictions = algo.test(testset)\n",
    "\n",
    "#predictions\n",
    "\n",
    "top_n = get_top_n(predictions, n=3)\n",
    "\n",
    "#create dataframe with top 3 recommendations by user with estimated scores and business_ids\n",
    "\n",
    "top_3df = pd.DataFrame(list(top_n.items()), columns=['user_id', 'recos'])\n",
    "top_3df[['Reco_1','Reco_2', 'Reco_3']] = pd.DataFrame(top_3df.recos.values.tolist(), index= top_3df.index)\n",
    "top_3df.drop(['recos'], axis=1, inplace=True)\n",
    "top_3df[['1st Recommendation', '1st Est Rating']] = top_3df['Reco_1'].apply(pd.Series)\n",
    "top_3df[['2nd Recommendation', '2nd Est Rating']] = top_3df['Reco_2'].apply(pd.Series)\n",
    "top_3df[['3rd Recommendation', '3rd Est Rating']] = top_3df['Reco_3'].apply(pd.Series)\n",
    "top_3df.drop(['Reco_1', 'Reco_2', 'Reco_3'], axis=1, inplace=True)\n",
    "top_3df.head()"
   ]
  },
  {
   "cell_type": "markdown",
   "metadata": {},
   "source": [
    "## Create List of Available User_Ids w/ Names and Meta Data"
   ]
  },
  {
   "cell_type": "code",
   "execution_count": null,
   "metadata": {},
   "outputs": [],
   "source": []
  },
  {
   "cell_type": "code",
   "execution_count": 238,
   "metadata": {},
   "outputs": [
    {
     "data": {
      "text/html": [
       "<div>\n",
       "<style>\n",
       "    .dataframe thead tr:only-child th {\n",
       "        text-align: right;\n",
       "    }\n",
       "\n",
       "    .dataframe thead th {\n",
       "        text-align: left;\n",
       "    }\n",
       "\n",
       "    .dataframe tbody tr th {\n",
       "        vertical-align: top;\n",
       "    }\n",
       "</style>\n",
       "<table border=\"1\" class=\"dataframe\">\n",
       "  <thead>\n",
       "    <tr style=\"text-align: right;\">\n",
       "      <th></th>\n",
       "      <th>user_id</th>\n",
       "      <th>name</th>\n",
       "      <th>1st Recommendation</th>\n",
       "      <th>1st Est Rating</th>\n",
       "      <th>2nd Recommendation</th>\n",
       "      <th>2nd Est Rating</th>\n",
       "      <th>3rd Recommendation</th>\n",
       "      <th>3rd Est Rating</th>\n",
       "      <th>review_count</th>\n",
       "    </tr>\n",
       "  </thead>\n",
       "  <tbody>\n",
       "    <tr>\n",
       "      <th>0</th>\n",
       "      <td>tL2pS5UOmN6aAOi3Z-qFGg</td>\n",
       "      <td>Mark</td>\n",
       "      <td>4GXII-GU7S0ZyU6ElkhscQ</td>\n",
       "      <td>3.145804</td>\n",
       "      <td>Xj7DIGRHEchJ-VVdISazQQ</td>\n",
       "      <td>3.142399</td>\n",
       "      <td>6tSvz_21BMo3a4GaItwa0g</td>\n",
       "      <td>3.133896</td>\n",
       "      <td>646</td>\n",
       "    </tr>\n",
       "    <tr>\n",
       "      <th>1</th>\n",
       "      <td>3wB-JjsUjkvdNUDRnChsVg</td>\n",
       "      <td>Brandon</td>\n",
       "      <td>A-uZAD4zP3rRxb44WUGV5w</td>\n",
       "      <td>3.699255</td>\n",
       "      <td>IT_4EEIbv6Ox1jBRMyE7pg</td>\n",
       "      <td>3.659101</td>\n",
       "      <td>JDZ6_yycNQFTpUZzLIKHUg</td>\n",
       "      <td>3.656280</td>\n",
       "      <td>1160</td>\n",
       "    </tr>\n",
       "    <tr>\n",
       "      <th>2</th>\n",
       "      <td>-hxUwfo3cMnLTv-CAaP69A</td>\n",
       "      <td>Crissy</td>\n",
       "      <td>gTlDDzDEHyDQ6iwjNhpI6A</td>\n",
       "      <td>3.705154</td>\n",
       "      <td>hihud--QRriCYZw1zZvW4g</td>\n",
       "      <td>3.686170</td>\n",
       "      <td>6tSvz_21BMo3a4GaItwa0g</td>\n",
       "      <td>3.646691</td>\n",
       "      <td>676</td>\n",
       "    </tr>\n",
       "    <tr>\n",
       "      <th>3</th>\n",
       "      <td>EE9txZm_zUFqWeYGVGaFNg</td>\n",
       "      <td>Wes</td>\n",
       "      <td>BIBWGO_r_1znnlmLbp4Nxg</td>\n",
       "      <td>4.013595</td>\n",
       "      <td>L_ZLtfHvfzfoNVQ0-okTXg</td>\n",
       "      <td>4.012292</td>\n",
       "      <td>eEnNw3_hBvxcFHyr23kAuA</td>\n",
       "      <td>4.012062</td>\n",
       "      <td>822</td>\n",
       "    </tr>\n",
       "    <tr>\n",
       "      <th>4</th>\n",
       "      <td>ZbkA2bI3HGqQmy_z-YWAmg</td>\n",
       "      <td>Romeo</td>\n",
       "      <td>6Q7-wkCPc1KF75jZLOTcMw</td>\n",
       "      <td>3.853124</td>\n",
       "      <td>L_ZLtfHvfzfoNVQ0-okTXg</td>\n",
       "      <td>3.846986</td>\n",
       "      <td>HhVmDybpU7L50Kb5A0jXTg</td>\n",
       "      <td>3.844637</td>\n",
       "      <td>508</td>\n",
       "    </tr>\n",
       "  </tbody>\n",
       "</table>\n",
       "</div>"
      ],
      "text/plain": [
       "                  user_id     name      1st Recommendation  1st Est Rating  \\\n",
       "0  tL2pS5UOmN6aAOi3Z-qFGg     Mark  4GXII-GU7S0ZyU6ElkhscQ        3.145804   \n",
       "1  3wB-JjsUjkvdNUDRnChsVg  Brandon  A-uZAD4zP3rRxb44WUGV5w        3.699255   \n",
       "2  -hxUwfo3cMnLTv-CAaP69A   Crissy  gTlDDzDEHyDQ6iwjNhpI6A        3.705154   \n",
       "3  EE9txZm_zUFqWeYGVGaFNg      Wes  BIBWGO_r_1znnlmLbp4Nxg        4.013595   \n",
       "4  ZbkA2bI3HGqQmy_z-YWAmg    Romeo  6Q7-wkCPc1KF75jZLOTcMw        3.853124   \n",
       "\n",
       "       2nd Recommendation  2nd Est Rating      3rd Recommendation  \\\n",
       "0  Xj7DIGRHEchJ-VVdISazQQ        3.142399  6tSvz_21BMo3a4GaItwa0g   \n",
       "1  IT_4EEIbv6Ox1jBRMyE7pg        3.659101  JDZ6_yycNQFTpUZzLIKHUg   \n",
       "2  hihud--QRriCYZw1zZvW4g        3.686170  6tSvz_21BMo3a4GaItwa0g   \n",
       "3  L_ZLtfHvfzfoNVQ0-okTXg        4.012292  eEnNw3_hBvxcFHyr23kAuA   \n",
       "4  L_ZLtfHvfzfoNVQ0-okTXg        3.846986  HhVmDybpU7L50Kb5A0jXTg   \n",
       "\n",
       "   3rd Est Rating  review_count  \n",
       "0        3.133896           646  \n",
       "1        3.656280          1160  \n",
       "2        3.646691           676  \n",
       "3        4.012062           822  \n",
       "4        3.844637           508  "
      ]
     },
     "execution_count": 238,
     "metadata": {},
     "output_type": "execute_result"
    }
   ],
   "source": [
    "top_3df = top_3df.merge(user, how='inner', on='user_id')\n",
    "top_3df.drop(['yelping_since', 'friends', 'useful', 'funny', 'cool',\n",
    "       'fans', 'elite', 'average_stars', 'compliment_hot', 'compliment_more',\n",
    "       'compliment_profile', 'compliment_cute', 'compliment_list',\n",
    "       'compliment_note', 'compliment_plain', 'compliment_cool',\n",
    "       'compliment_funny', 'compliment_writer', 'compliment_photos'], axis=1)\n",
    "top_3df = top_3df[['user_id', 'name', '1st Recommendation','1st Est Rating', '2nd Recommendation', '2nd Est Rating', '3rd Recommendation', '3rd Est Rating', 'review_count']]\n",
    "top_3df.head()"
   ]
  },
  {
   "cell_type": "code",
   "execution_count": null,
   "metadata": {},
   "outputs": [],
   "source": []
  },
  {
   "cell_type": "code",
   "execution_count": 61,
   "metadata": {},
   "outputs": [
    {
     "data": {
      "text/plain": [
       "['tL2pS5UOmN6aAOi3Z-qFGg',\n",
       " '3wB-JjsUjkvdNUDRnChsVg',\n",
       " '3EAHMMsNnN4rrQVPPuzdnw',\n",
       " 'm8nDqQ7a3zQWfkNK1_vwnQ',\n",
       " '-hxUwfo3cMnLTv-CAaP69A',\n",
       " 'Vwwp4QxVhmP7uNJz4pdkDA',\n",
       " 'NIhcRW6DWvk1JQhDhXwgOQ',\n",
       " 'EE9txZm_zUFqWeYGVGaFNg',\n",
       " 'bzMzZE3OCqHhZyXH5JRaWw',\n",
       " '8sAGXoMY7I9quLmCO1F8ZQ']"
      ]
     },
     "execution_count": 61,
     "metadata": {},
     "output_type": "execute_result"
    }
   ],
   "source": [
    "user_list = df['user_id'].unique().tolist()\n",
    "user_list[:10]"
   ]
  },
  {
   "cell_type": "code",
   "execution_count": 62,
   "metadata": {},
   "outputs": [],
   "source": [
    "def new_user_recommendations(user):\n",
    "    \n",
    "    # Createe User_Recommendations Dataframe merged with Business Metadata\n",
    "    \n",
    "    user_recommendations = top_3df.query(\"user_id == '\"+user+\"'\")\n",
    "    user_recommendations = user_recommendations.T.reset_index()\n",
    "    user_recommendations.columns = ['Info', 'business_id']\n",
    "    user_recommendations = user_recommendations.merge(business, how='inner', on='business_id')\n",
    "    user_recommendations.drop(['business_id', 'is_open'], axis=1, inplace=True)\n",
    "    \n",
    "    return user_recommendations"
   ]
  },
  {
   "cell_type": "code",
   "execution_count": 245,
   "metadata": {},
   "outputs": [
    {
     "data": {
      "text/html": [
       "<div>\n",
       "<style>\n",
       "    .dataframe thead tr:only-child th {\n",
       "        text-align: right;\n",
       "    }\n",
       "\n",
       "    .dataframe thead th {\n",
       "        text-align: left;\n",
       "    }\n",
       "\n",
       "    .dataframe tbody tr th {\n",
       "        vertical-align: top;\n",
       "    }\n",
       "</style>\n",
       "<table border=\"1\" class=\"dataframe\">\n",
       "  <thead>\n",
       "    <tr style=\"text-align: right;\">\n",
       "      <th></th>\n",
       "      <th>Info</th>\n",
       "      <th>name</th>\n",
       "      <th>neighborhood</th>\n",
       "      <th>address</th>\n",
       "      <th>city</th>\n",
       "      <th>state</th>\n",
       "      <th>postal_code</th>\n",
       "      <th>latitude</th>\n",
       "      <th>longitude</th>\n",
       "      <th>stars</th>\n",
       "      <th>review_count</th>\n",
       "      <th>categories</th>\n",
       "    </tr>\n",
       "  </thead>\n",
       "  <tbody>\n",
       "    <tr>\n",
       "      <th>0</th>\n",
       "      <td>1st Recommendation</td>\n",
       "      <td>\"Hooters Casino Hotel Las Vegas\"</td>\n",
       "      <td>Southeast</td>\n",
       "      <td>\"115 E Tropicana Ave\"</td>\n",
       "      <td>Las Vegas</td>\n",
       "      <td>NV</td>\n",
       "      <td>89109</td>\n",
       "      <td>36.100022</td>\n",
       "      <td>-115.167681</td>\n",
       "      <td>2.5</td>\n",
       "      <td>1334</td>\n",
       "      <td>Restaurants;Casinos;Hotels;Chicken Wings;Arts ...</td>\n",
       "    </tr>\n",
       "    <tr>\n",
       "      <th>1</th>\n",
       "      <td>2nd Recommendation</td>\n",
       "      <td>\"Javier's\"</td>\n",
       "      <td>The Strip</td>\n",
       "      <td>\"3730 Las Vegas Blvd S\"</td>\n",
       "      <td>Las Vegas</td>\n",
       "      <td>NV</td>\n",
       "      <td>89109</td>\n",
       "      <td>36.107325</td>\n",
       "      <td>-115.176579</td>\n",
       "      <td>4.0</td>\n",
       "      <td>1042</td>\n",
       "      <td>Nightlife;Mexican;Bars;Restaurants</td>\n",
       "    </tr>\n",
       "    <tr>\n",
       "      <th>2</th>\n",
       "      <td>3rd Recommendation</td>\n",
       "      <td>\"Jjanga Japanese Restaurant\"</td>\n",
       "      <td>Chinatown</td>\n",
       "      <td>\"3650 S Decatur Blvd, Ste 31\"</td>\n",
       "      <td>Las Vegas</td>\n",
       "      <td>NV</td>\n",
       "      <td>89103</td>\n",
       "      <td>36.123558</td>\n",
       "      <td>-115.207538</td>\n",
       "      <td>4.0</td>\n",
       "      <td>1037</td>\n",
       "      <td>Nightlife;Karaoke;Japanese;Sushi Bars;Restaurants</td>\n",
       "    </tr>\n",
       "  </tbody>\n",
       "</table>\n",
       "</div>"
      ],
      "text/plain": [
       "                 Info                              name neighborhood  \\\n",
       "0  1st Recommendation  \"Hooters Casino Hotel Las Vegas\"    Southeast   \n",
       "1  2nd Recommendation                        \"Javier's\"    The Strip   \n",
       "2  3rd Recommendation      \"Jjanga Japanese Restaurant\"    Chinatown   \n",
       "\n",
       "                         address       city state postal_code   latitude  \\\n",
       "0          \"115 E Tropicana Ave\"  Las Vegas    NV       89109  36.100022   \n",
       "1        \"3730 Las Vegas Blvd S\"  Las Vegas    NV       89109  36.107325   \n",
       "2  \"3650 S Decatur Blvd, Ste 31\"  Las Vegas    NV       89103  36.123558   \n",
       "\n",
       "    longitude  stars  review_count  \\\n",
       "0 -115.167681    2.5          1334   \n",
       "1 -115.176579    4.0          1042   \n",
       "2 -115.207538    4.0          1037   \n",
       "\n",
       "                                          categories  \n",
       "0  Restaurants;Casinos;Hotels;Chicken Wings;Arts ...  \n",
       "1                 Nightlife;Mexican;Bars;Restaurants  \n",
       "2  Nightlife;Karaoke;Japanese;Sushi Bars;Restaurants  "
      ]
     },
     "execution_count": 245,
     "metadata": {},
     "output_type": "execute_result"
    }
   ],
   "source": [
    "new_user_recommendations('tL2pS5UOmN6aAOi3Z-qFGg')"
   ]
  },
  {
   "cell_type": "code",
   "execution_count": 258,
   "metadata": {},
   "outputs": [],
   "source": [
    "def new_user_previously_rated(user):\n",
    "    \n",
    "    # Show users previously rated businesses from Dataframe merged with Business Metadata\n",
    "    \n",
    "    previously_rated = df[df['user_id'] == user]\n",
    "    previously_rated = previously_rated.merge(business, how='inner', on='business_id')\n",
    "    previously_rated = previously_rated.rename({'stars_x': 'user rating'})\n",
    "    previously_rated.rename(columns = {'stars_x':'user rating', 'stars_y': 'business rating'}, inplace = True)\n",
    "    previously_rated.drop(['business_id', 'is_open', 'address', 'postal_code'], axis=1, inplace=True)\n",
    "    \n",
    "    return previously_rated"
   ]
  },
  {
   "cell_type": "code",
   "execution_count": 259,
   "metadata": {},
   "outputs": [
    {
     "data": {
      "text/html": [
       "<div>\n",
       "<style>\n",
       "    .dataframe thead tr:only-child th {\n",
       "        text-align: right;\n",
       "    }\n",
       "\n",
       "    .dataframe thead th {\n",
       "        text-align: left;\n",
       "    }\n",
       "\n",
       "    .dataframe tbody tr th {\n",
       "        vertical-align: top;\n",
       "    }\n",
       "</style>\n",
       "<table border=\"1\" class=\"dataframe\">\n",
       "  <thead>\n",
       "    <tr style=\"text-align: right;\">\n",
       "      <th></th>\n",
       "      <th>user_id</th>\n",
       "      <th>user rating</th>\n",
       "      <th>name</th>\n",
       "      <th>neighborhood</th>\n",
       "      <th>city</th>\n",
       "      <th>state</th>\n",
       "      <th>latitude</th>\n",
       "      <th>longitude</th>\n",
       "      <th>business rating</th>\n",
       "      <th>review_count</th>\n",
       "      <th>categories</th>\n",
       "    </tr>\n",
       "  </thead>\n",
       "  <tbody>\n",
       "    <tr>\n",
       "      <th>0</th>\n",
       "      <td>tL2pS5UOmN6aAOi3Z-qFGg</td>\n",
       "      <td>4</td>\n",
       "      <td>\"Mandalay Bay Resort &amp; Casino\"</td>\n",
       "      <td>The Strip</td>\n",
       "      <td>Las Vegas</td>\n",
       "      <td>NV</td>\n",
       "      <td>36.091895</td>\n",
       "      <td>-115.175256</td>\n",
       "      <td>3.5</td>\n",
       "      <td>2687</td>\n",
       "      <td>Casinos;Hotels;Hotels &amp; Travel;Resorts;Arts &amp; ...</td>\n",
       "    </tr>\n",
       "    <tr>\n",
       "      <th>1</th>\n",
       "      <td>tL2pS5UOmN6aAOi3Z-qFGg</td>\n",
       "      <td>2</td>\n",
       "      <td>\"Bachi Burger\"</td>\n",
       "      <td>Westside</td>\n",
       "      <td>Las Vegas</td>\n",
       "      <td>NV</td>\n",
       "      <td>36.146910</td>\n",
       "      <td>-115.300777</td>\n",
       "      <td>4.0</td>\n",
       "      <td>1068</td>\n",
       "      <td>Asian Fusion;Burgers;American (New);Bars;Wine ...</td>\n",
       "    </tr>\n",
       "    <tr>\n",
       "      <th>2</th>\n",
       "      <td>tL2pS5UOmN6aAOi3Z-qFGg</td>\n",
       "      <td>5</td>\n",
       "      <td>\"The Peppermill Restaurant &amp; Fireside Lounge\"</td>\n",
       "      <td>The Strip</td>\n",
       "      <td>Las Vegas</td>\n",
       "      <td>NV</td>\n",
       "      <td>36.133667</td>\n",
       "      <td>-115.163095</td>\n",
       "      <td>4.0</td>\n",
       "      <td>2703</td>\n",
       "      <td>Bars;American (Traditional);Lounges;Nightlife;...</td>\n",
       "    </tr>\n",
       "    <tr>\n",
       "      <th>3</th>\n",
       "      <td>tL2pS5UOmN6aAOi3Z-qFGg</td>\n",
       "      <td>4</td>\n",
       "      <td>\"Juan's Flaming Fajitas &amp; Cantina\"</td>\n",
       "      <td>Spring Valley</td>\n",
       "      <td>Las Vegas</td>\n",
       "      <td>NV</td>\n",
       "      <td>36.100509</td>\n",
       "      <td>-115.302689</td>\n",
       "      <td>4.5</td>\n",
       "      <td>1210</td>\n",
       "      <td>Restaurants;Bars;Nightlife;Mexican</td>\n",
       "    </tr>\n",
       "    <tr>\n",
       "      <th>4</th>\n",
       "      <td>tL2pS5UOmN6aAOi3Z-qFGg</td>\n",
       "      <td>4</td>\n",
       "      <td>\"MGM Grand Hotel\"</td>\n",
       "      <td>The Strip</td>\n",
       "      <td>Las Vegas</td>\n",
       "      <td>NV</td>\n",
       "      <td>36.102251</td>\n",
       "      <td>-115.169968</td>\n",
       "      <td>3.0</td>\n",
       "      <td>3444</td>\n",
       "      <td>Restaurants;Arts &amp; Entertainment;Hotels;Event ...</td>\n",
       "    </tr>\n",
       "    <tr>\n",
       "      <th>5</th>\n",
       "      <td>tL2pS5UOmN6aAOi3Z-qFGg</td>\n",
       "      <td>2</td>\n",
       "      <td>\"Ellis Island Hotel, Casino &amp; Brewery\"</td>\n",
       "      <td>Eastside</td>\n",
       "      <td>Las Vegas</td>\n",
       "      <td>NV</td>\n",
       "      <td>36.113025</td>\n",
       "      <td>-115.163485</td>\n",
       "      <td>4.0</td>\n",
       "      <td>1946</td>\n",
       "      <td>Bars;Barbeque;Karaoke;Food;Breweries;Restauran...</td>\n",
       "    </tr>\n",
       "    <tr>\n",
       "      <th>6</th>\n",
       "      <td>tL2pS5UOmN6aAOi3Z-qFGg</td>\n",
       "      <td>3</td>\n",
       "      <td>\"Hash House A Go Go\"</td>\n",
       "      <td>Westside</td>\n",
       "      <td>Las Vegas</td>\n",
       "      <td>NV</td>\n",
       "      <td>36.144667</td>\n",
       "      <td>-115.239955</td>\n",
       "      <td>4.0</td>\n",
       "      <td>3050</td>\n",
       "      <td>Restaurants;Breakfast &amp; Brunch;American (New)</td>\n",
       "    </tr>\n",
       "    <tr>\n",
       "      <th>7</th>\n",
       "      <td>tL2pS5UOmN6aAOi3Z-qFGg</td>\n",
       "      <td>3</td>\n",
       "      <td>\"Stratosphere\"</td>\n",
       "      <td>The Strip</td>\n",
       "      <td>Las Vegas</td>\n",
       "      <td>NV</td>\n",
       "      <td>36.147695</td>\n",
       "      <td>-115.156306</td>\n",
       "      <td>2.5</td>\n",
       "      <td>1662</td>\n",
       "      <td>Hotels;Casinos;Event Planning &amp; Services;Arts ...</td>\n",
       "    </tr>\n",
       "    <tr>\n",
       "      <th>8</th>\n",
       "      <td>tL2pS5UOmN6aAOi3Z-qFGg</td>\n",
       "      <td>1</td>\n",
       "      <td>\"Cirque du Soleil - Zumanity\"</td>\n",
       "      <td>The Strip</td>\n",
       "      <td>Las Vegas</td>\n",
       "      <td>NV</td>\n",
       "      <td>36.102894</td>\n",
       "      <td>-115.174842</td>\n",
       "      <td>4.0</td>\n",
       "      <td>1294</td>\n",
       "      <td>Nightlife;Adult Entertainment;Performing Arts;...</td>\n",
       "    </tr>\n",
       "  </tbody>\n",
       "</table>\n",
       "</div>"
      ],
      "text/plain": [
       "                  user_id  user rating  \\\n",
       "0  tL2pS5UOmN6aAOi3Z-qFGg            4   \n",
       "1  tL2pS5UOmN6aAOi3Z-qFGg            2   \n",
       "2  tL2pS5UOmN6aAOi3Z-qFGg            5   \n",
       "3  tL2pS5UOmN6aAOi3Z-qFGg            4   \n",
       "4  tL2pS5UOmN6aAOi3Z-qFGg            4   \n",
       "5  tL2pS5UOmN6aAOi3Z-qFGg            2   \n",
       "6  tL2pS5UOmN6aAOi3Z-qFGg            3   \n",
       "7  tL2pS5UOmN6aAOi3Z-qFGg            3   \n",
       "8  tL2pS5UOmN6aAOi3Z-qFGg            1   \n",
       "\n",
       "                                            name   neighborhood       city  \\\n",
       "0                 \"Mandalay Bay Resort & Casino\"      The Strip  Las Vegas   \n",
       "1                                 \"Bachi Burger\"       Westside  Las Vegas   \n",
       "2  \"The Peppermill Restaurant & Fireside Lounge\"      The Strip  Las Vegas   \n",
       "3             \"Juan's Flaming Fajitas & Cantina\"  Spring Valley  Las Vegas   \n",
       "4                              \"MGM Grand Hotel\"      The Strip  Las Vegas   \n",
       "5         \"Ellis Island Hotel, Casino & Brewery\"       Eastside  Las Vegas   \n",
       "6                           \"Hash House A Go Go\"       Westside  Las Vegas   \n",
       "7                                 \"Stratosphere\"      The Strip  Las Vegas   \n",
       "8                  \"Cirque du Soleil - Zumanity\"      The Strip  Las Vegas   \n",
       "\n",
       "  state   latitude   longitude  business rating  review_count  \\\n",
       "0    NV  36.091895 -115.175256              3.5          2687   \n",
       "1    NV  36.146910 -115.300777              4.0          1068   \n",
       "2    NV  36.133667 -115.163095              4.0          2703   \n",
       "3    NV  36.100509 -115.302689              4.5          1210   \n",
       "4    NV  36.102251 -115.169968              3.0          3444   \n",
       "5    NV  36.113025 -115.163485              4.0          1946   \n",
       "6    NV  36.144667 -115.239955              4.0          3050   \n",
       "7    NV  36.147695 -115.156306              2.5          1662   \n",
       "8    NV  36.102894 -115.174842              4.0          1294   \n",
       "\n",
       "                                          categories  \n",
       "0  Casinos;Hotels;Hotels & Travel;Resorts;Arts & ...  \n",
       "1  Asian Fusion;Burgers;American (New);Bars;Wine ...  \n",
       "2  Bars;American (Traditional);Lounges;Nightlife;...  \n",
       "3                 Restaurants;Bars;Nightlife;Mexican  \n",
       "4  Restaurants;Arts & Entertainment;Hotels;Event ...  \n",
       "5  Bars;Barbeque;Karaoke;Food;Breweries;Restauran...  \n",
       "6      Restaurants;Breakfast & Brunch;American (New)  \n",
       "7  Hotels;Casinos;Event Planning & Services;Arts ...  \n",
       "8  Nightlife;Adult Entertainment;Performing Arts;...  "
      ]
     },
     "execution_count": 259,
     "metadata": {},
     "output_type": "execute_result"
    }
   ],
   "source": [
    "new_user_previously_rated('tL2pS5UOmN6aAOi3Z-qFGg')"
   ]
  },
  {
   "cell_type": "code",
   "execution_count": 70,
   "metadata": {},
   "outputs": [],
   "source": [
    "def new_user_recommendations_map(user):\n",
    "    # Create user_recommendations df from new_recommendation function\n",
    "    user_recommendations = new_user_recommendations(user)\n",
    "\n",
    "    # Create interactive map w/ top 5 recommendations dropped as points\n",
    "    location=[user_recommendations.iloc[0]['latitude'], user_recommendations.iloc[0]['longitude']]\n",
    "    m = folium.Map(location, width='80%', height='80%', max_zoom=15, min_zoom=11, zoom_start=11, control_scale=True)\n",
    "    for i in range(0,len(user_recommendations)):\n",
    "        folium.Marker([user_recommendations.iloc[i]['latitude'], user_recommendations.iloc[i]['longitude']],\\\n",
    "        popup=user_recommendations.iloc[i]['name']).add_to(m)\n",
    "    m.save('map.html')\n",
    "    return m"
   ]
  },
  {
   "cell_type": "code",
   "execution_count": 90,
   "metadata": {},
   "outputs": [
    {
     "data": {
      "text/html": [
       "<div style=\"width:100%;\"><div style=\"position:relative;width:100%;height:0;padding-bottom:60%;\"><iframe src=\"data:text/html;charset=utf-8;base64,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\" style=\"position:absolute;width:100%;height:100%;left:0;top:0;border:none !important;\" allowfullscreen webkitallowfullscreen mozallowfullscreen></iframe></div></div>"
      ],
      "text/plain": [
       "<folium.folium.Map at 0x18c1a3048>"
      ]
     },
     "execution_count": 90,
     "metadata": {},
     "output_type": "execute_result"
    }
   ],
   "source": [
    "new_user_recommendations_map('m8nDqQ7a3zQWfkNK1_vwnQ')"
   ]
  },
  {
   "cell_type": "markdown",
   "metadata": {},
   "source": [
    "![title](user_recommendations.png)"
   ]
  },
  {
   "cell_type": "code",
   "execution_count": 74,
   "metadata": {},
   "outputs": [
    {
     "data": {
      "text/plain": [
       "['eAc9Vd6loOgRQolMXQt6FA',\n",
       " 'ZibmYdOPKLlqDM9oR6xzOA',\n",
       " 'q3dJQtwZQrrurNT-1bNKgQ',\n",
       " 'yhgUyctWczUN13MinNgZ3w',\n",
       " 'XXW_OFaYQkkGOGniujZFHg',\n",
       " 'SVGApDPNdpFlEjwRQThCxA',\n",
       " 'El4FC8jcawUVgw_0EIcbaQ',\n",
       " 'EAwh1OmG6t6p3nRaZOW_AA',\n",
       " 'g8OnV26ywJlZpezdBnOWUQ',\n",
       " 'ByFMv3p5X1aNeZhU61rDcA']"
      ]
     },
     "execution_count": 74,
     "metadata": {},
     "output_type": "execute_result"
    }
   ],
   "source": [
    "business_list = df['business_id'].unique().tolist()\n",
    "business_list[:10]"
   ]
  },
  {
   "cell_type": "code",
   "execution_count": 75,
   "metadata": {},
   "outputs": [],
   "source": [
    "def new_business_customers(business):\n",
    "    business_customers = top_3df.loc[(top_3df['1st Recommendation'] == business) | \\\n",
    "        (top_3df['2nd Recommendation'] == business) | \\\n",
    "        (top_3df['3rd Recommendation'] == business)]\n",
    "    business_customers = business_customers[['user_id', 'name']]\n",
    "    business_customers = business_customers.merge(user, how='inner', on='user_id')\n",
    "    business_customers = business_customers.drop(['name_y'], axis=1)\n",
    "    business_customers = business_customers.rename(columns={'name_x': 'name'})\n",
    "    return business_customers"
   ]
  },
  {
   "cell_type": "code",
   "execution_count": 76,
   "metadata": {},
   "outputs": [
    {
     "data": {
      "text/html": [
       "<div>\n",
       "<style>\n",
       "    .dataframe thead tr:only-child th {\n",
       "        text-align: right;\n",
       "    }\n",
       "\n",
       "    .dataframe thead th {\n",
       "        text-align: left;\n",
       "    }\n",
       "\n",
       "    .dataframe tbody tr th {\n",
       "        vertical-align: top;\n",
       "    }\n",
       "</style>\n",
       "<table border=\"1\" class=\"dataframe\">\n",
       "  <thead>\n",
       "    <tr style=\"text-align: right;\">\n",
       "      <th></th>\n",
       "      <th>user_id</th>\n",
       "      <th>name</th>\n",
       "      <th>review_count</th>\n",
       "      <th>yelping_since</th>\n",
       "      <th>friends</th>\n",
       "      <th>useful</th>\n",
       "      <th>funny</th>\n",
       "      <th>cool</th>\n",
       "      <th>fans</th>\n",
       "      <th>elite</th>\n",
       "      <th>...</th>\n",
       "      <th>compliment_more</th>\n",
       "      <th>compliment_profile</th>\n",
       "      <th>compliment_cute</th>\n",
       "      <th>compliment_list</th>\n",
       "      <th>compliment_note</th>\n",
       "      <th>compliment_plain</th>\n",
       "      <th>compliment_cool</th>\n",
       "      <th>compliment_funny</th>\n",
       "      <th>compliment_writer</th>\n",
       "      <th>compliment_photos</th>\n",
       "    </tr>\n",
       "  </thead>\n",
       "  <tbody>\n",
       "    <tr>\n",
       "      <th>0</th>\n",
       "      <td>woZhhAj9QrzMYBJ8M7uJFA</td>\n",
       "      <td>John</td>\n",
       "      <td>1176</td>\n",
       "      <td>2008-10-13</td>\n",
       "      <td>QYUdOyXau5rfGFdyGF5f0g, IeitHuc3ypD_dmJ5_DkuLw...</td>\n",
       "      <td>503</td>\n",
       "      <td>533</td>\n",
       "      <td>526</td>\n",
       "      <td>123</td>\n",
       "      <td>2017, 2016, 2012, 2015, 2013, 2014, 2011, 2010</td>\n",
       "      <td>...</td>\n",
       "      <td>50</td>\n",
       "      <td>43</td>\n",
       "      <td>13</td>\n",
       "      <td>19</td>\n",
       "      <td>241</td>\n",
       "      <td>829</td>\n",
       "      <td>926</td>\n",
       "      <td>926</td>\n",
       "      <td>453</td>\n",
       "      <td>48</td>\n",
       "    </tr>\n",
       "    <tr>\n",
       "      <th>1</th>\n",
       "      <td>ij1EkydgfT0fopex9SpKLA</td>\n",
       "      <td>Pearl</td>\n",
       "      <td>993</td>\n",
       "      <td>2007-10-01</td>\n",
       "      <td>50OKf1tiohzd6XxTr-ueKA, YJEnWF25Jxc61RrqE7Z7Vw...</td>\n",
       "      <td>4796</td>\n",
       "      <td>2437</td>\n",
       "      <td>1016</td>\n",
       "      <td>188</td>\n",
       "      <td>2011, 2013, 2010, 2008, 2009</td>\n",
       "      <td>...</td>\n",
       "      <td>36</td>\n",
       "      <td>19</td>\n",
       "      <td>62</td>\n",
       "      <td>19</td>\n",
       "      <td>178</td>\n",
       "      <td>223</td>\n",
       "      <td>372</td>\n",
       "      <td>372</td>\n",
       "      <td>168</td>\n",
       "      <td>94</td>\n",
       "    </tr>\n",
       "    <tr>\n",
       "      <th>2</th>\n",
       "      <td>30vjKdW6wNF5i1Hu-6-agA</td>\n",
       "      <td>Vince</td>\n",
       "      <td>774</td>\n",
       "      <td>2009-01-14</td>\n",
       "      <td>-jokrv00Kgyp0UomjFuh1g, ad8cXN5pYhs8EtSUat5WpA...</td>\n",
       "      <td>67</td>\n",
       "      <td>25</td>\n",
       "      <td>6</td>\n",
       "      <td>48</td>\n",
       "      <td>2010, 2013, 2009, 2016, 2015, 2011, 2014, 2017...</td>\n",
       "      <td>...</td>\n",
       "      <td>16</td>\n",
       "      <td>2</td>\n",
       "      <td>0</td>\n",
       "      <td>1</td>\n",
       "      <td>53</td>\n",
       "      <td>31</td>\n",
       "      <td>54</td>\n",
       "      <td>54</td>\n",
       "      <td>70</td>\n",
       "      <td>6</td>\n",
       "    </tr>\n",
       "    <tr>\n",
       "      <th>3</th>\n",
       "      <td>7eFy-LxZuvS2K6PAQoibBA</td>\n",
       "      <td>Phil</td>\n",
       "      <td>876</td>\n",
       "      <td>2010-08-28</td>\n",
       "      <td>o_5SRWwS9XbLrlKMTyDybg, Vhfq6EW4cTvsvJ_uFk61OQ...</td>\n",
       "      <td>4</td>\n",
       "      <td>3</td>\n",
       "      <td>2</td>\n",
       "      <td>27</td>\n",
       "      <td>2013, 2014, 2016, 2015, 2011, 2012</td>\n",
       "      <td>...</td>\n",
       "      <td>7</td>\n",
       "      <td>5</td>\n",
       "      <td>0</td>\n",
       "      <td>0</td>\n",
       "      <td>19</td>\n",
       "      <td>24</td>\n",
       "      <td>46</td>\n",
       "      <td>46</td>\n",
       "      <td>16</td>\n",
       "      <td>1</td>\n",
       "    </tr>\n",
       "    <tr>\n",
       "      <th>4</th>\n",
       "      <td>Io1ILaKfXwA0XUratbsKhQ</td>\n",
       "      <td>Karma</td>\n",
       "      <td>553</td>\n",
       "      <td>2014-05-04</td>\n",
       "      <td>10RGWoZscd6l2ZfXGHkdcQ, Xk4CO2zXLjdr3l4y7eo9fg...</td>\n",
       "      <td>942</td>\n",
       "      <td>754</td>\n",
       "      <td>486</td>\n",
       "      <td>35</td>\n",
       "      <td>None</td>\n",
       "      <td>...</td>\n",
       "      <td>12</td>\n",
       "      <td>2</td>\n",
       "      <td>1</td>\n",
       "      <td>0</td>\n",
       "      <td>72</td>\n",
       "      <td>158</td>\n",
       "      <td>119</td>\n",
       "      <td>119</td>\n",
       "      <td>20</td>\n",
       "      <td>17</td>\n",
       "    </tr>\n",
       "  </tbody>\n",
       "</table>\n",
       "<p>5 rows × 22 columns</p>\n",
       "</div>"
      ],
      "text/plain": [
       "                  user_id   name  review_count yelping_since  \\\n",
       "0  woZhhAj9QrzMYBJ8M7uJFA   John          1176    2008-10-13   \n",
       "1  ij1EkydgfT0fopex9SpKLA  Pearl           993    2007-10-01   \n",
       "2  30vjKdW6wNF5i1Hu-6-agA  Vince           774    2009-01-14   \n",
       "3  7eFy-LxZuvS2K6PAQoibBA   Phil           876    2010-08-28   \n",
       "4  Io1ILaKfXwA0XUratbsKhQ  Karma           553    2014-05-04   \n",
       "\n",
       "                                             friends  useful  funny  cool  \\\n",
       "0  QYUdOyXau5rfGFdyGF5f0g, IeitHuc3ypD_dmJ5_DkuLw...     503    533   526   \n",
       "1  50OKf1tiohzd6XxTr-ueKA, YJEnWF25Jxc61RrqE7Z7Vw...    4796   2437  1016   \n",
       "2  -jokrv00Kgyp0UomjFuh1g, ad8cXN5pYhs8EtSUat5WpA...      67     25     6   \n",
       "3  o_5SRWwS9XbLrlKMTyDybg, Vhfq6EW4cTvsvJ_uFk61OQ...       4      3     2   \n",
       "4  10RGWoZscd6l2ZfXGHkdcQ, Xk4CO2zXLjdr3l4y7eo9fg...     942    754   486   \n",
       "\n",
       "   fans                                              elite        ...          \\\n",
       "0   123     2017, 2016, 2012, 2015, 2013, 2014, 2011, 2010        ...           \n",
       "1   188                       2011, 2013, 2010, 2008, 2009        ...           \n",
       "2    48  2010, 2013, 2009, 2016, 2015, 2011, 2014, 2017...        ...           \n",
       "3    27                 2013, 2014, 2016, 2015, 2011, 2012        ...           \n",
       "4    35                                               None        ...           \n",
       "\n",
       "   compliment_more  compliment_profile  compliment_cute  compliment_list  \\\n",
       "0               50                  43               13               19   \n",
       "1               36                  19               62               19   \n",
       "2               16                   2                0                1   \n",
       "3                7                   5                0                0   \n",
       "4               12                   2                1                0   \n",
       "\n",
       "   compliment_note  compliment_plain  compliment_cool  compliment_funny  \\\n",
       "0              241               829              926               926   \n",
       "1              178               223              372               372   \n",
       "2               53                31               54                54   \n",
       "3               19                24               46                46   \n",
       "4               72               158              119               119   \n",
       "\n",
       "   compliment_writer  compliment_photos  \n",
       "0                453                 48  \n",
       "1                168                 94  \n",
       "2                 70                  6  \n",
       "3                 16                  1  \n",
       "4                 20                 17  \n",
       "\n",
       "[5 rows x 22 columns]"
      ]
     },
     "execution_count": 76,
     "metadata": {},
     "output_type": "execute_result"
    }
   ],
   "source": [
    "new_business_customers('eAc9Vd6loOgRQolMXQt6FA').head()"
   ]
  },
  {
   "cell_type": "markdown",
   "metadata": {},
   "source": [
    "---"
   ]
  },
  {
   "cell_type": "code",
   "execution_count": 271,
   "metadata": {},
   "outputs": [],
   "source": [
    "def model_stats(business_city, business_review_count, user_review_count):\n",
    "    # Read in datasets\n",
    "    df_business = pd.read_csv('../yelp_academic_dataset/yelp_business.csv')\n",
    "    df_user = pd.read_csv('../yelp_academic_dataset/yelp_user.csv')\n",
    "    \n",
    "    # Mask business dataset by 'City' & 'Review Count' \n",
    "    df_business = df_business[(df_business['city'] == business_city) & (df_business['review_count'] > business_review_count)]\n",
    "    \n",
    "    # Truncate business dataset\n",
    "    df_business_trunc = df_business[['business_id', 'name', 'city', 'state', 'review_count']]\n",
    "    \n",
    "    # Mask user dataset by user review count\n",
    "    df_user = df_user[df_user['review_count'] > user_review_count]\n",
    "    \n",
    "    # Truncate user dataset\n",
    "    df_user_trunc = df_user[['user_id', 'review_count']]\n",
    "    \n",
    "    df_reviews = pd.read_csv('../yelp_academic_dataset/yelp_review.csv', nrows=500000)\n",
    "    \n",
    "    df_reviews_trunc = df_reviews[['review_id', 'user_id', 'business_id','stars']]\n",
    "    \n",
    "    df_merge = df_reviews_trunc.merge(df_user_trunc, how='inner', on='user_id').merge(df_business_trunc, how='inner', on='business_id')\n",
    "    \n",
    "    df_merge.drop(['review_id','review_count_x', 'name', 'city', 'state', 'review_count_y'], axis=1, inplace=True)\n",
    "    \n",
    "    df_merge = df_merge.groupby('user_id').filter(lambda group: len(group) > 20)\n",
    "    \n",
    "    df_merge = df_merge.groupby('business_id').filter(lambda group: len(group) > 10)\n",
    "    \n",
    "    print(\"City: %s \" %business_city)\n",
    "    print(\"Number of reviews included: %s \" %df_merge.shape[0])\n",
    "    print(\"\")\n",
    "    print(\"Number of unique users included: %s\" %df_merge['user_id'].unique().size)\n",
    "    print(\"\")\n",
    "    print(\"Number of unique businesses included: %s\" %df_merge['business_id'].unique().size)\n",
    "    print(\"\\n\")\n",
    "    \n",
    "    print(df_merge['stars'].describe())\n",
    "    print(\"\\n\")\n",
    "    \n",
    "    \n",
    "    \n",
    "    # Create Reader w/ Scale to Import DataFrame into Surprise\n",
    "    reader = Reader(rating_scale=(1, 5))\n",
    "\n",
    "    # The columns must correspond to user id, item id and ratings (in that order).\n",
    "    data = Dataset.load_from_df(df_merge[['user_id', 'business_id', 'stars']], reader)\n",
    "\n",
    "    # Define Algorithm for Model\n",
    "    #algo = sim_options = {'name': 'cosine',\n",
    "    #            'user_based': True  # compute  similarities between items\n",
    "    #           }\n",
    "    #algo = KNNBasic(sim_options=sim_options)\n",
    "    \n",
    "    algo = SVD()\n",
    "\n",
    "    # Use Train_Test_Split on data\n",
    "    trainset, testset = train_test_split(data=data, test_size=.3, random_state=9)\n",
    "\n",
    "    # Train the algorithm on the trainset, and predict ratings for the testset\n",
    "    algo.fit(trainset)\n",
    "    predictions = algo.test(testset)\n",
    "\n",
    "    # Then compute RMSE & MAE\n",
    "    print(accuracy.rmse(predictions))\n",
    "    print(accuracy.mae(predictions)) "
   ]
  },
  {
   "cell_type": "code",
   "execution_count": 272,
   "metadata": {},
   "outputs": [
    {
     "name": "stdout",
     "output_type": "stream",
     "text": [
      "City: Phoenix \n",
      "Number of reviews included: 729 \n",
      "\n",
      "Number of unique users included: 60\n",
      "\n",
      "Number of unique businesses included: 51\n",
      "\n",
      "\n",
      "count    729.000000\n",
      "mean       4.157750\n",
      "std        0.927938\n",
      "min        1.000000\n",
      "25%        4.000000\n",
      "50%        4.000000\n",
      "75%        5.000000\n",
      "max        5.000000\n",
      "Name: stars, dtype: float64\n",
      "\n",
      "\n",
      "RMSE: 0.8572\n",
      "0.857209888440867\n",
      "MAE:  0.6756\n",
      "0.6755717217284737\n"
     ]
    }
   ],
   "source": [
    "model_stats(\"Phoenix\", 200, 100)"
   ]
  },
  {
   "cell_type": "code",
   "execution_count": null,
   "metadata": {},
   "outputs": [],
   "source": []
  },
  {
   "cell_type": "code",
   "execution_count": null,
   "metadata": {},
   "outputs": [],
   "source": []
  }
 ],
 "metadata": {
  "kernelspec": {
   "display_name": "Python 3",
   "language": "python",
   "name": "python3"
  },
  "language_info": {
   "codemirror_mode": {
    "name": "ipython",
    "version": 3
   },
   "file_extension": ".py",
   "mimetype": "text/x-python",
   "name": "python",
   "nbconvert_exporter": "python",
   "pygments_lexer": "ipython3",
   "version": "3.6.3"
  }
 },
 "nbformat": 4,
 "nbformat_minor": 2
}
